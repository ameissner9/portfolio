{
  "nbformat": 4,
  "nbformat_minor": 0,
  "metadata": {
    "colab": {
      "provenance": []
    },
    "kernelspec": {
      "name": "python3",
      "display_name": "Python 3"
    },
    "language_info": {
      "name": "python"
    }
  },
  "cells": [
    {
      "cell_type": "markdown",
      "source": [
        "# Reading in the Data\n",
        "\n",
        "The data we have comes from the Advanced Sports Analytics website and covers offensive, defensive, and kicking data for games played from September 5, 2019 to December 5, 2022. There are three separate csv files for each of the team components. The link to download the data is https://www.advancedsportsanalytics.com/nfl-raw-data"
      ],
      "metadata": {
        "id": "3CAmFW9oY29x"
      }
    },
    {
      "cell_type": "code",
      "execution_count": 4,
      "metadata": {
        "id": "IkoY59N4csKX"
      },
      "outputs": [],
      "source": [
        "# get pandas\n",
        "import pandas as pd"
      ]
    },
    {
      "cell_type": "code",
      "source": [
        "# read in pass, rush, receive csv file and check our data\n",
        "url='https://drive.google.com/file/d/1rgtUpzmZFqDzSm2XWjkoT74bWrs1jGhO/view?usp=sharing'\n",
        "url='https://drive.google.com/uc?id=' + url.split('/')[-2]\n",
        "df_prr = pd.read_csv(url)\n",
        "df_prr"
      ],
      "metadata": {
        "colab": {
          "base_uri": "https://localhost:8080/",
          "height": 670
        },
        "id": "HD8i3In--Wje",
        "outputId": "481c6b12-267a-4e40-c65a-d7093b0e63a1"
      },
      "execution_count": 5,
      "outputs": [
        {
          "output_type": "execute_result",
          "data": {
            "text/plain": [
              "            game_id player_id pos                    player team  pass_cmp  \\\n",
              "0      201909050chi  RodgAa00  QB             Aaron Rodgers  GNB        18   \n",
              "1      201909050chi  JoneAa00  RB               Aaron Jones  GNB         0   \n",
              "2      201909050chi  ValdMa00  WR  Marquez Valdes-Scantling  GNB         0   \n",
              "3      201909050chi  AdamDa01  WR             Davante Adams  GNB         0   \n",
              "4      201909050chi  GrahJi00  TE              Jimmy Graham  GNB         0   \n",
              "...             ...       ...  ..                       ...  ...       ...   \n",
              "23953  202211210crd  KrofTy00  TE               Tyler Kroft  SFO         0   \n",
              "23954  202211210crd  WoerCh00  TE           Charlie Woerner  SFO         0   \n",
              "23955  202211210crd  GrayDa02  WR                Danny Gray  SFO         0   \n",
              "23956  202211210crd  DwelRo00  TE              Ross Dwelley  SFO         0   \n",
              "23957  202211210crd  AndeRo04  WR           Robbie Anderson  ARI         0   \n",
              "\n",
              "       pass_att  pass_yds  pass_td  pass_int  ...     OT      Roof  Surface  \\\n",
              "0            30       203        1         0  ...  False  outdoors    grass   \n",
              "1             0         0        0         0  ...  False  outdoors    grass   \n",
              "2             0         0        0         0  ...  False  outdoors    grass   \n",
              "3             0         0        0         0  ...  False  outdoors    grass   \n",
              "4             0         0        0         0  ...  False  outdoors    grass   \n",
              "...         ...       ...      ...       ...  ...    ...       ...      ...   \n",
              "23953         0         0        0         0  ...  False  outdoors    grass   \n",
              "23954         0         0        0         0  ...  False  outdoors    grass   \n",
              "23955         0         0        0         0  ...  False  outdoors    grass   \n",
              "23956         0         0        0         0  ...  False  outdoors    grass   \n",
              "23957         0         0        0         0  ...  False  outdoors    grass   \n",
              "\n",
              "       Temperature  Humidity  Wind_Speed  Vegas_Line  Vegas_Favorite  \\\n",
              "0               65        69          10        -3.5             CHI   \n",
              "1               65        69          10        -3.5             CHI   \n",
              "2               65        69          10        -3.5             CHI   \n",
              "3               65        69          10        -3.5             CHI   \n",
              "4               65        69          10        -3.5             CHI   \n",
              "...            ...       ...         ...         ...             ...   \n",
              "23953           64        52           4         NaN             NaN   \n",
              "23954           64        52           4         NaN             NaN   \n",
              "23955           64        52           4         NaN             NaN   \n",
              "23956           64        52           4         NaN             NaN   \n",
              "23957           64        52           4         NaN             NaN   \n",
              "\n",
              "       Over_Under   game_date  \n",
              "0            47.0  2019-09-05  \n",
              "1            47.0  2019-09-05  \n",
              "2            47.0  2019-09-05  \n",
              "3            47.0  2019-09-05  \n",
              "4            47.0  2019-09-05  \n",
              "...           ...         ...  \n",
              "23953         NaN  2022-11-21  \n",
              "23954         NaN  2022-11-21  \n",
              "23955         NaN  2022-11-21  \n",
              "23956         NaN  2022-11-21  \n",
              "23957         NaN  2022-11-21  \n",
              "\n",
              "[23958 rows x 69 columns]"
            ],
            "text/html": [
              "\n",
              "  <div id=\"df-861abd56-796b-4f5f-ba66-ff2e33f33e9d\">\n",
              "    <div class=\"colab-df-container\">\n",
              "      <div>\n",
              "<style scoped>\n",
              "    .dataframe tbody tr th:only-of-type {\n",
              "        vertical-align: middle;\n",
              "    }\n",
              "\n",
              "    .dataframe tbody tr th {\n",
              "        vertical-align: top;\n",
              "    }\n",
              "\n",
              "    .dataframe thead th {\n",
              "        text-align: right;\n",
              "    }\n",
              "</style>\n",
              "<table border=\"1\" class=\"dataframe\">\n",
              "  <thead>\n",
              "    <tr style=\"text-align: right;\">\n",
              "      <th></th>\n",
              "      <th>game_id</th>\n",
              "      <th>player_id</th>\n",
              "      <th>pos</th>\n",
              "      <th>player</th>\n",
              "      <th>team</th>\n",
              "      <th>pass_cmp</th>\n",
              "      <th>pass_att</th>\n",
              "      <th>pass_yds</th>\n",
              "      <th>pass_td</th>\n",
              "      <th>pass_int</th>\n",
              "      <th>...</th>\n",
              "      <th>OT</th>\n",
              "      <th>Roof</th>\n",
              "      <th>Surface</th>\n",
              "      <th>Temperature</th>\n",
              "      <th>Humidity</th>\n",
              "      <th>Wind_Speed</th>\n",
              "      <th>Vegas_Line</th>\n",
              "      <th>Vegas_Favorite</th>\n",
              "      <th>Over_Under</th>\n",
              "      <th>game_date</th>\n",
              "    </tr>\n",
              "  </thead>\n",
              "  <tbody>\n",
              "    <tr>\n",
              "      <th>0</th>\n",
              "      <td>201909050chi</td>\n",
              "      <td>RodgAa00</td>\n",
              "      <td>QB</td>\n",
              "      <td>Aaron Rodgers</td>\n",
              "      <td>GNB</td>\n",
              "      <td>18</td>\n",
              "      <td>30</td>\n",
              "      <td>203</td>\n",
              "      <td>1</td>\n",
              "      <td>0</td>\n",
              "      <td>...</td>\n",
              "      <td>False</td>\n",
              "      <td>outdoors</td>\n",
              "      <td>grass</td>\n",
              "      <td>65</td>\n",
              "      <td>69</td>\n",
              "      <td>10</td>\n",
              "      <td>-3.5</td>\n",
              "      <td>CHI</td>\n",
              "      <td>47.0</td>\n",
              "      <td>2019-09-05</td>\n",
              "    </tr>\n",
              "    <tr>\n",
              "      <th>1</th>\n",
              "      <td>201909050chi</td>\n",
              "      <td>JoneAa00</td>\n",
              "      <td>RB</td>\n",
              "      <td>Aaron Jones</td>\n",
              "      <td>GNB</td>\n",
              "      <td>0</td>\n",
              "      <td>0</td>\n",
              "      <td>0</td>\n",
              "      <td>0</td>\n",
              "      <td>0</td>\n",
              "      <td>...</td>\n",
              "      <td>False</td>\n",
              "      <td>outdoors</td>\n",
              "      <td>grass</td>\n",
              "      <td>65</td>\n",
              "      <td>69</td>\n",
              "      <td>10</td>\n",
              "      <td>-3.5</td>\n",
              "      <td>CHI</td>\n",
              "      <td>47.0</td>\n",
              "      <td>2019-09-05</td>\n",
              "    </tr>\n",
              "    <tr>\n",
              "      <th>2</th>\n",
              "      <td>201909050chi</td>\n",
              "      <td>ValdMa00</td>\n",
              "      <td>WR</td>\n",
              "      <td>Marquez Valdes-Scantling</td>\n",
              "      <td>GNB</td>\n",
              "      <td>0</td>\n",
              "      <td>0</td>\n",
              "      <td>0</td>\n",
              "      <td>0</td>\n",
              "      <td>0</td>\n",
              "      <td>...</td>\n",
              "      <td>False</td>\n",
              "      <td>outdoors</td>\n",
              "      <td>grass</td>\n",
              "      <td>65</td>\n",
              "      <td>69</td>\n",
              "      <td>10</td>\n",
              "      <td>-3.5</td>\n",
              "      <td>CHI</td>\n",
              "      <td>47.0</td>\n",
              "      <td>2019-09-05</td>\n",
              "    </tr>\n",
              "    <tr>\n",
              "      <th>3</th>\n",
              "      <td>201909050chi</td>\n",
              "      <td>AdamDa01</td>\n",
              "      <td>WR</td>\n",
              "      <td>Davante Adams</td>\n",
              "      <td>GNB</td>\n",
              "      <td>0</td>\n",
              "      <td>0</td>\n",
              "      <td>0</td>\n",
              "      <td>0</td>\n",
              "      <td>0</td>\n",
              "      <td>...</td>\n",
              "      <td>False</td>\n",
              "      <td>outdoors</td>\n",
              "      <td>grass</td>\n",
              "      <td>65</td>\n",
              "      <td>69</td>\n",
              "      <td>10</td>\n",
              "      <td>-3.5</td>\n",
              "      <td>CHI</td>\n",
              "      <td>47.0</td>\n",
              "      <td>2019-09-05</td>\n",
              "    </tr>\n",
              "    <tr>\n",
              "      <th>4</th>\n",
              "      <td>201909050chi</td>\n",
              "      <td>GrahJi00</td>\n",
              "      <td>TE</td>\n",
              "      <td>Jimmy Graham</td>\n",
              "      <td>GNB</td>\n",
              "      <td>0</td>\n",
              "      <td>0</td>\n",
              "      <td>0</td>\n",
              "      <td>0</td>\n",
              "      <td>0</td>\n",
              "      <td>...</td>\n",
              "      <td>False</td>\n",
              "      <td>outdoors</td>\n",
              "      <td>grass</td>\n",
              "      <td>65</td>\n",
              "      <td>69</td>\n",
              "      <td>10</td>\n",
              "      <td>-3.5</td>\n",
              "      <td>CHI</td>\n",
              "      <td>47.0</td>\n",
              "      <td>2019-09-05</td>\n",
              "    </tr>\n",
              "    <tr>\n",
              "      <th>...</th>\n",
              "      <td>...</td>\n",
              "      <td>...</td>\n",
              "      <td>...</td>\n",
              "      <td>...</td>\n",
              "      <td>...</td>\n",
              "      <td>...</td>\n",
              "      <td>...</td>\n",
              "      <td>...</td>\n",
              "      <td>...</td>\n",
              "      <td>...</td>\n",
              "      <td>...</td>\n",
              "      <td>...</td>\n",
              "      <td>...</td>\n",
              "      <td>...</td>\n",
              "      <td>...</td>\n",
              "      <td>...</td>\n",
              "      <td>...</td>\n",
              "      <td>...</td>\n",
              "      <td>...</td>\n",
              "      <td>...</td>\n",
              "      <td>...</td>\n",
              "    </tr>\n",
              "    <tr>\n",
              "      <th>23953</th>\n",
              "      <td>202211210crd</td>\n",
              "      <td>KrofTy00</td>\n",
              "      <td>TE</td>\n",
              "      <td>Tyler Kroft</td>\n",
              "      <td>SFO</td>\n",
              "      <td>0</td>\n",
              "      <td>0</td>\n",
              "      <td>0</td>\n",
              "      <td>0</td>\n",
              "      <td>0</td>\n",
              "      <td>...</td>\n",
              "      <td>False</td>\n",
              "      <td>outdoors</td>\n",
              "      <td>grass</td>\n",
              "      <td>64</td>\n",
              "      <td>52</td>\n",
              "      <td>4</td>\n",
              "      <td>NaN</td>\n",
              "      <td>NaN</td>\n",
              "      <td>NaN</td>\n",
              "      <td>2022-11-21</td>\n",
              "    </tr>\n",
              "    <tr>\n",
              "      <th>23954</th>\n",
              "      <td>202211210crd</td>\n",
              "      <td>WoerCh00</td>\n",
              "      <td>TE</td>\n",
              "      <td>Charlie Woerner</td>\n",
              "      <td>SFO</td>\n",
              "      <td>0</td>\n",
              "      <td>0</td>\n",
              "      <td>0</td>\n",
              "      <td>0</td>\n",
              "      <td>0</td>\n",
              "      <td>...</td>\n",
              "      <td>False</td>\n",
              "      <td>outdoors</td>\n",
              "      <td>grass</td>\n",
              "      <td>64</td>\n",
              "      <td>52</td>\n",
              "      <td>4</td>\n",
              "      <td>NaN</td>\n",
              "      <td>NaN</td>\n",
              "      <td>NaN</td>\n",
              "      <td>2022-11-21</td>\n",
              "    </tr>\n",
              "    <tr>\n",
              "      <th>23955</th>\n",
              "      <td>202211210crd</td>\n",
              "      <td>GrayDa02</td>\n",
              "      <td>WR</td>\n",
              "      <td>Danny Gray</td>\n",
              "      <td>SFO</td>\n",
              "      <td>0</td>\n",
              "      <td>0</td>\n",
              "      <td>0</td>\n",
              "      <td>0</td>\n",
              "      <td>0</td>\n",
              "      <td>...</td>\n",
              "      <td>False</td>\n",
              "      <td>outdoors</td>\n",
              "      <td>grass</td>\n",
              "      <td>64</td>\n",
              "      <td>52</td>\n",
              "      <td>4</td>\n",
              "      <td>NaN</td>\n",
              "      <td>NaN</td>\n",
              "      <td>NaN</td>\n",
              "      <td>2022-11-21</td>\n",
              "    </tr>\n",
              "    <tr>\n",
              "      <th>23956</th>\n",
              "      <td>202211210crd</td>\n",
              "      <td>DwelRo00</td>\n",
              "      <td>TE</td>\n",
              "      <td>Ross Dwelley</td>\n",
              "      <td>SFO</td>\n",
              "      <td>0</td>\n",
              "      <td>0</td>\n",
              "      <td>0</td>\n",
              "      <td>0</td>\n",
              "      <td>0</td>\n",
              "      <td>...</td>\n",
              "      <td>False</td>\n",
              "      <td>outdoors</td>\n",
              "      <td>grass</td>\n",
              "      <td>64</td>\n",
              "      <td>52</td>\n",
              "      <td>4</td>\n",
              "      <td>NaN</td>\n",
              "      <td>NaN</td>\n",
              "      <td>NaN</td>\n",
              "      <td>2022-11-21</td>\n",
              "    </tr>\n",
              "    <tr>\n",
              "      <th>23957</th>\n",
              "      <td>202211210crd</td>\n",
              "      <td>AndeRo04</td>\n",
              "      <td>WR</td>\n",
              "      <td>Robbie Anderson</td>\n",
              "      <td>ARI</td>\n",
              "      <td>0</td>\n",
              "      <td>0</td>\n",
              "      <td>0</td>\n",
              "      <td>0</td>\n",
              "      <td>0</td>\n",
              "      <td>...</td>\n",
              "      <td>False</td>\n",
              "      <td>outdoors</td>\n",
              "      <td>grass</td>\n",
              "      <td>64</td>\n",
              "      <td>52</td>\n",
              "      <td>4</td>\n",
              "      <td>NaN</td>\n",
              "      <td>NaN</td>\n",
              "      <td>NaN</td>\n",
              "      <td>2022-11-21</td>\n",
              "    </tr>\n",
              "  </tbody>\n",
              "</table>\n",
              "<p>23958 rows × 69 columns</p>\n",
              "</div>\n",
              "      <button class=\"colab-df-convert\" onclick=\"convertToInteractive('df-861abd56-796b-4f5f-ba66-ff2e33f33e9d')\"\n",
              "              title=\"Convert this dataframe to an interactive table.\"\n",
              "              style=\"display:none;\">\n",
              "        \n",
              "  <svg xmlns=\"http://www.w3.org/2000/svg\" height=\"24px\"viewBox=\"0 0 24 24\"\n",
              "       width=\"24px\">\n",
              "    <path d=\"M0 0h24v24H0V0z\" fill=\"none\"/>\n",
              "    <path d=\"M18.56 5.44l.94 2.06.94-2.06 2.06-.94-2.06-.94-.94-2.06-.94 2.06-2.06.94zm-11 1L8.5 8.5l.94-2.06 2.06-.94-2.06-.94L8.5 2.5l-.94 2.06-2.06.94zm10 10l.94 2.06.94-2.06 2.06-.94-2.06-.94-.94-2.06-.94 2.06-2.06.94z\"/><path d=\"M17.41 7.96l-1.37-1.37c-.4-.4-.92-.59-1.43-.59-.52 0-1.04.2-1.43.59L10.3 9.45l-7.72 7.72c-.78.78-.78 2.05 0 2.83L4 21.41c.39.39.9.59 1.41.59.51 0 1.02-.2 1.41-.59l7.78-7.78 2.81-2.81c.8-.78.8-2.07 0-2.86zM5.41 20L4 18.59l7.72-7.72 1.47 1.35L5.41 20z\"/>\n",
              "  </svg>\n",
              "      </button>\n",
              "      \n",
              "  <style>\n",
              "    .colab-df-container {\n",
              "      display:flex;\n",
              "      flex-wrap:wrap;\n",
              "      gap: 12px;\n",
              "    }\n",
              "\n",
              "    .colab-df-convert {\n",
              "      background-color: #E8F0FE;\n",
              "      border: none;\n",
              "      border-radius: 50%;\n",
              "      cursor: pointer;\n",
              "      display: none;\n",
              "      fill: #1967D2;\n",
              "      height: 32px;\n",
              "      padding: 0 0 0 0;\n",
              "      width: 32px;\n",
              "    }\n",
              "\n",
              "    .colab-df-convert:hover {\n",
              "      background-color: #E2EBFA;\n",
              "      box-shadow: 0px 1px 2px rgba(60, 64, 67, 0.3), 0px 1px 3px 1px rgba(60, 64, 67, 0.15);\n",
              "      fill: #174EA6;\n",
              "    }\n",
              "\n",
              "    [theme=dark] .colab-df-convert {\n",
              "      background-color: #3B4455;\n",
              "      fill: #D2E3FC;\n",
              "    }\n",
              "\n",
              "    [theme=dark] .colab-df-convert:hover {\n",
              "      background-color: #434B5C;\n",
              "      box-shadow: 0px 1px 3px 1px rgba(0, 0, 0, 0.15);\n",
              "      filter: drop-shadow(0px 1px 2px rgba(0, 0, 0, 0.3));\n",
              "      fill: #FFFFFF;\n",
              "    }\n",
              "  </style>\n",
              "\n",
              "      <script>\n",
              "        const buttonEl =\n",
              "          document.querySelector('#df-861abd56-796b-4f5f-ba66-ff2e33f33e9d button.colab-df-convert');\n",
              "        buttonEl.style.display =\n",
              "          google.colab.kernel.accessAllowed ? 'block' : 'none';\n",
              "\n",
              "        async function convertToInteractive(key) {\n",
              "          const element = document.querySelector('#df-861abd56-796b-4f5f-ba66-ff2e33f33e9d');\n",
              "          const dataTable =\n",
              "            await google.colab.kernel.invokeFunction('convertToInteractive',\n",
              "                                                     [key], {});\n",
              "          if (!dataTable) return;\n",
              "\n",
              "          const docLinkHtml = 'Like what you see? Visit the ' +\n",
              "            '<a target=\"_blank\" href=https://colab.research.google.com/notebooks/data_table.ipynb>data table notebook</a>'\n",
              "            + ' to learn more about interactive tables.';\n",
              "          element.innerHTML = '';\n",
              "          dataTable['output_type'] = 'display_data';\n",
              "          await google.colab.output.renderOutput(dataTable, element);\n",
              "          const docLink = document.createElement('div');\n",
              "          docLink.innerHTML = docLinkHtml;\n",
              "          element.appendChild(docLink);\n",
              "        }\n",
              "      </script>\n",
              "    </div>\n",
              "  </div>\n",
              "  "
            ]
          },
          "metadata": {},
          "execution_count": 5
        }
      ]
    },
    {
      "cell_type": "code",
      "source": [
        "# read in defense csv file and check our data\n",
        "url='https://drive.google.com/file/d/1vSrRW4rU9CeMHf13Nd_u9jyTaokdkOaF/view?usp=sharing'\n",
        "url='https://drive.google.com/uc?id=' + url.split('/')[-2]\n",
        "df_dst = pd.read_csv(url)\n",
        "df_dst"
      ],
      "metadata": {
        "colab": {
          "base_uri": "https://localhost:8080/",
          "height": 483
        },
        "id": "2FdMIV6GBew5",
        "outputId": "13278973-1051-4256-8813-8953f0bd80e2"
      },
      "execution_count": 6,
      "outputs": [
        {
          "output_type": "execute_result",
          "data": {
            "text/plain": [
              "           game_id team  def_int  def_int_td  sacks  fumbles_rec  \\\n",
              "0     201909050chi  CHI        0           0      5            0   \n",
              "1     201909050chi  GNB        1           0      5            0   \n",
              "2     201909080car  LAR        1           0      3            2   \n",
              "3     201909080car  CAR        1           0      1            0   \n",
              "4     201909080cle  CLE        0           0      4            0   \n",
              "...            ...  ...      ...         ...    ...          ...   \n",
              "1936  202211200rav  CAR        1           0      3            0   \n",
              "1937  202211200sdg  KAN        1           0      5            1   \n",
              "1938  202211200sdg  LAC        0           0      1            1   \n",
              "1939  202211210crd  ARI        0           0      0            0   \n",
              "1940  202211210crd  SFO        2           0      3            0   \n",
              "\n",
              "      fumbles_rec_td  blocked_kick  safety  def_two_point_conv  ...     OT  \\\n",
              "0                  0             0       0                   0  ...  False   \n",
              "1                  0             0       0                   0  ...  False   \n",
              "2                  0             0       0                   0  ...  False   \n",
              "3                  0             1       0                   0  ...  False   \n",
              "4                  0             0       0                   0  ...  False   \n",
              "...              ...           ...     ...                 ...  ...    ...   \n",
              "1936               0             0       0                   0  ...  False   \n",
              "1937               0             0       0                   0  ...  False   \n",
              "1938               0             0       0                   0  ...  False   \n",
              "1939               0             0       0                   0  ...  False   \n",
              "1940               0             0       0                   0  ...  False   \n",
              "\n",
              "          Roof     Surface  Temperature  Humidity  Wind_Speed  Vegas_Line  \\\n",
              "0     outdoors       grass           65        69          10        -3.5   \n",
              "1     outdoors       grass           65        69          10        -3.5   \n",
              "2     outdoors       grass           87        53           3        -1.5   \n",
              "3     outdoors       grass           87        53           3        -1.5   \n",
              "4     outdoors       grass           71        55          10        -5.5   \n",
              "...        ...         ...          ...       ...         ...         ...   \n",
              "1936  outdoors       grass           36        24           2         NaN   \n",
              "1937      dome  matrixturf           72        45           0         NaN   \n",
              "1938      dome  matrixturf           72        45           0         NaN   \n",
              "1939  outdoors       grass           64        52           4         NaN   \n",
              "1940  outdoors       grass           64        52           4         NaN   \n",
              "\n",
              "      Vegas_Favorite  Over_Under   game_date  \n",
              "0                CHI        47.0  2019-09-05  \n",
              "1                CHI        47.0  2019-09-05  \n",
              "2                LAR        49.5  2019-09-08  \n",
              "3                LAR        49.5  2019-09-08  \n",
              "4                CLE        44.0  2019-09-08  \n",
              "...              ...         ...         ...  \n",
              "1936             NaN         NaN  2022-11-20  \n",
              "1937             NaN         NaN  2022-11-20  \n",
              "1938             NaN         NaN  2022-11-20  \n",
              "1939             NaN         NaN  2022-11-21  \n",
              "1940             NaN         NaN  2022-11-21  \n",
              "\n",
              "[1941 rows x 37 columns]"
            ],
            "text/html": [
              "\n",
              "  <div id=\"df-579fd500-049c-45c0-a694-8f5432b355a2\">\n",
              "    <div class=\"colab-df-container\">\n",
              "      <div>\n",
              "<style scoped>\n",
              "    .dataframe tbody tr th:only-of-type {\n",
              "        vertical-align: middle;\n",
              "    }\n",
              "\n",
              "    .dataframe tbody tr th {\n",
              "        vertical-align: top;\n",
              "    }\n",
              "\n",
              "    .dataframe thead th {\n",
              "        text-align: right;\n",
              "    }\n",
              "</style>\n",
              "<table border=\"1\" class=\"dataframe\">\n",
              "  <thead>\n",
              "    <tr style=\"text-align: right;\">\n",
              "      <th></th>\n",
              "      <th>game_id</th>\n",
              "      <th>team</th>\n",
              "      <th>def_int</th>\n",
              "      <th>def_int_td</th>\n",
              "      <th>sacks</th>\n",
              "      <th>fumbles_rec</th>\n",
              "      <th>fumbles_rec_td</th>\n",
              "      <th>blocked_kick</th>\n",
              "      <th>safety</th>\n",
              "      <th>def_two_point_conv</th>\n",
              "      <th>...</th>\n",
              "      <th>OT</th>\n",
              "      <th>Roof</th>\n",
              "      <th>Surface</th>\n",
              "      <th>Temperature</th>\n",
              "      <th>Humidity</th>\n",
              "      <th>Wind_Speed</th>\n",
              "      <th>Vegas_Line</th>\n",
              "      <th>Vegas_Favorite</th>\n",
              "      <th>Over_Under</th>\n",
              "      <th>game_date</th>\n",
              "    </tr>\n",
              "  </thead>\n",
              "  <tbody>\n",
              "    <tr>\n",
              "      <th>0</th>\n",
              "      <td>201909050chi</td>\n",
              "      <td>CHI</td>\n",
              "      <td>0</td>\n",
              "      <td>0</td>\n",
              "      <td>5</td>\n",
              "      <td>0</td>\n",
              "      <td>0</td>\n",
              "      <td>0</td>\n",
              "      <td>0</td>\n",
              "      <td>0</td>\n",
              "      <td>...</td>\n",
              "      <td>False</td>\n",
              "      <td>outdoors</td>\n",
              "      <td>grass</td>\n",
              "      <td>65</td>\n",
              "      <td>69</td>\n",
              "      <td>10</td>\n",
              "      <td>-3.5</td>\n",
              "      <td>CHI</td>\n",
              "      <td>47.0</td>\n",
              "      <td>2019-09-05</td>\n",
              "    </tr>\n",
              "    <tr>\n",
              "      <th>1</th>\n",
              "      <td>201909050chi</td>\n",
              "      <td>GNB</td>\n",
              "      <td>1</td>\n",
              "      <td>0</td>\n",
              "      <td>5</td>\n",
              "      <td>0</td>\n",
              "      <td>0</td>\n",
              "      <td>0</td>\n",
              "      <td>0</td>\n",
              "      <td>0</td>\n",
              "      <td>...</td>\n",
              "      <td>False</td>\n",
              "      <td>outdoors</td>\n",
              "      <td>grass</td>\n",
              "      <td>65</td>\n",
              "      <td>69</td>\n",
              "      <td>10</td>\n",
              "      <td>-3.5</td>\n",
              "      <td>CHI</td>\n",
              "      <td>47.0</td>\n",
              "      <td>2019-09-05</td>\n",
              "    </tr>\n",
              "    <tr>\n",
              "      <th>2</th>\n",
              "      <td>201909080car</td>\n",
              "      <td>LAR</td>\n",
              "      <td>1</td>\n",
              "      <td>0</td>\n",
              "      <td>3</td>\n",
              "      <td>2</td>\n",
              "      <td>0</td>\n",
              "      <td>0</td>\n",
              "      <td>0</td>\n",
              "      <td>0</td>\n",
              "      <td>...</td>\n",
              "      <td>False</td>\n",
              "      <td>outdoors</td>\n",
              "      <td>grass</td>\n",
              "      <td>87</td>\n",
              "      <td>53</td>\n",
              "      <td>3</td>\n",
              "      <td>-1.5</td>\n",
              "      <td>LAR</td>\n",
              "      <td>49.5</td>\n",
              "      <td>2019-09-08</td>\n",
              "    </tr>\n",
              "    <tr>\n",
              "      <th>3</th>\n",
              "      <td>201909080car</td>\n",
              "      <td>CAR</td>\n",
              "      <td>1</td>\n",
              "      <td>0</td>\n",
              "      <td>1</td>\n",
              "      <td>0</td>\n",
              "      <td>0</td>\n",
              "      <td>1</td>\n",
              "      <td>0</td>\n",
              "      <td>0</td>\n",
              "      <td>...</td>\n",
              "      <td>False</td>\n",
              "      <td>outdoors</td>\n",
              "      <td>grass</td>\n",
              "      <td>87</td>\n",
              "      <td>53</td>\n",
              "      <td>3</td>\n",
              "      <td>-1.5</td>\n",
              "      <td>LAR</td>\n",
              "      <td>49.5</td>\n",
              "      <td>2019-09-08</td>\n",
              "    </tr>\n",
              "    <tr>\n",
              "      <th>4</th>\n",
              "      <td>201909080cle</td>\n",
              "      <td>CLE</td>\n",
              "      <td>0</td>\n",
              "      <td>0</td>\n",
              "      <td>4</td>\n",
              "      <td>0</td>\n",
              "      <td>0</td>\n",
              "      <td>0</td>\n",
              "      <td>0</td>\n",
              "      <td>0</td>\n",
              "      <td>...</td>\n",
              "      <td>False</td>\n",
              "      <td>outdoors</td>\n",
              "      <td>grass</td>\n",
              "      <td>71</td>\n",
              "      <td>55</td>\n",
              "      <td>10</td>\n",
              "      <td>-5.5</td>\n",
              "      <td>CLE</td>\n",
              "      <td>44.0</td>\n",
              "      <td>2019-09-08</td>\n",
              "    </tr>\n",
              "    <tr>\n",
              "      <th>...</th>\n",
              "      <td>...</td>\n",
              "      <td>...</td>\n",
              "      <td>...</td>\n",
              "      <td>...</td>\n",
              "      <td>...</td>\n",
              "      <td>...</td>\n",
              "      <td>...</td>\n",
              "      <td>...</td>\n",
              "      <td>...</td>\n",
              "      <td>...</td>\n",
              "      <td>...</td>\n",
              "      <td>...</td>\n",
              "      <td>...</td>\n",
              "      <td>...</td>\n",
              "      <td>...</td>\n",
              "      <td>...</td>\n",
              "      <td>...</td>\n",
              "      <td>...</td>\n",
              "      <td>...</td>\n",
              "      <td>...</td>\n",
              "      <td>...</td>\n",
              "    </tr>\n",
              "    <tr>\n",
              "      <th>1936</th>\n",
              "      <td>202211200rav</td>\n",
              "      <td>CAR</td>\n",
              "      <td>1</td>\n",
              "      <td>0</td>\n",
              "      <td>3</td>\n",
              "      <td>0</td>\n",
              "      <td>0</td>\n",
              "      <td>0</td>\n",
              "      <td>0</td>\n",
              "      <td>0</td>\n",
              "      <td>...</td>\n",
              "      <td>False</td>\n",
              "      <td>outdoors</td>\n",
              "      <td>grass</td>\n",
              "      <td>36</td>\n",
              "      <td>24</td>\n",
              "      <td>2</td>\n",
              "      <td>NaN</td>\n",
              "      <td>NaN</td>\n",
              "      <td>NaN</td>\n",
              "      <td>2022-11-20</td>\n",
              "    </tr>\n",
              "    <tr>\n",
              "      <th>1937</th>\n",
              "      <td>202211200sdg</td>\n",
              "      <td>KAN</td>\n",
              "      <td>1</td>\n",
              "      <td>0</td>\n",
              "      <td>5</td>\n",
              "      <td>1</td>\n",
              "      <td>0</td>\n",
              "      <td>0</td>\n",
              "      <td>0</td>\n",
              "      <td>0</td>\n",
              "      <td>...</td>\n",
              "      <td>False</td>\n",
              "      <td>dome</td>\n",
              "      <td>matrixturf</td>\n",
              "      <td>72</td>\n",
              "      <td>45</td>\n",
              "      <td>0</td>\n",
              "      <td>NaN</td>\n",
              "      <td>NaN</td>\n",
              "      <td>NaN</td>\n",
              "      <td>2022-11-20</td>\n",
              "    </tr>\n",
              "    <tr>\n",
              "      <th>1938</th>\n",
              "      <td>202211200sdg</td>\n",
              "      <td>LAC</td>\n",
              "      <td>0</td>\n",
              "      <td>0</td>\n",
              "      <td>1</td>\n",
              "      <td>1</td>\n",
              "      <td>0</td>\n",
              "      <td>0</td>\n",
              "      <td>0</td>\n",
              "      <td>0</td>\n",
              "      <td>...</td>\n",
              "      <td>False</td>\n",
              "      <td>dome</td>\n",
              "      <td>matrixturf</td>\n",
              "      <td>72</td>\n",
              "      <td>45</td>\n",
              "      <td>0</td>\n",
              "      <td>NaN</td>\n",
              "      <td>NaN</td>\n",
              "      <td>NaN</td>\n",
              "      <td>2022-11-20</td>\n",
              "    </tr>\n",
              "    <tr>\n",
              "      <th>1939</th>\n",
              "      <td>202211210crd</td>\n",
              "      <td>ARI</td>\n",
              "      <td>0</td>\n",
              "      <td>0</td>\n",
              "      <td>0</td>\n",
              "      <td>0</td>\n",
              "      <td>0</td>\n",
              "      <td>0</td>\n",
              "      <td>0</td>\n",
              "      <td>0</td>\n",
              "      <td>...</td>\n",
              "      <td>False</td>\n",
              "      <td>outdoors</td>\n",
              "      <td>grass</td>\n",
              "      <td>64</td>\n",
              "      <td>52</td>\n",
              "      <td>4</td>\n",
              "      <td>NaN</td>\n",
              "      <td>NaN</td>\n",
              "      <td>NaN</td>\n",
              "      <td>2022-11-21</td>\n",
              "    </tr>\n",
              "    <tr>\n",
              "      <th>1940</th>\n",
              "      <td>202211210crd</td>\n",
              "      <td>SFO</td>\n",
              "      <td>2</td>\n",
              "      <td>0</td>\n",
              "      <td>3</td>\n",
              "      <td>0</td>\n",
              "      <td>0</td>\n",
              "      <td>0</td>\n",
              "      <td>0</td>\n",
              "      <td>0</td>\n",
              "      <td>...</td>\n",
              "      <td>False</td>\n",
              "      <td>outdoors</td>\n",
              "      <td>grass</td>\n",
              "      <td>64</td>\n",
              "      <td>52</td>\n",
              "      <td>4</td>\n",
              "      <td>NaN</td>\n",
              "      <td>NaN</td>\n",
              "      <td>NaN</td>\n",
              "      <td>2022-11-21</td>\n",
              "    </tr>\n",
              "  </tbody>\n",
              "</table>\n",
              "<p>1941 rows × 37 columns</p>\n",
              "</div>\n",
              "      <button class=\"colab-df-convert\" onclick=\"convertToInteractive('df-579fd500-049c-45c0-a694-8f5432b355a2')\"\n",
              "              title=\"Convert this dataframe to an interactive table.\"\n",
              "              style=\"display:none;\">\n",
              "        \n",
              "  <svg xmlns=\"http://www.w3.org/2000/svg\" height=\"24px\"viewBox=\"0 0 24 24\"\n",
              "       width=\"24px\">\n",
              "    <path d=\"M0 0h24v24H0V0z\" fill=\"none\"/>\n",
              "    <path d=\"M18.56 5.44l.94 2.06.94-2.06 2.06-.94-2.06-.94-.94-2.06-.94 2.06-2.06.94zm-11 1L8.5 8.5l.94-2.06 2.06-.94-2.06-.94L8.5 2.5l-.94 2.06-2.06.94zm10 10l.94 2.06.94-2.06 2.06-.94-2.06-.94-.94-2.06-.94 2.06-2.06.94z\"/><path d=\"M17.41 7.96l-1.37-1.37c-.4-.4-.92-.59-1.43-.59-.52 0-1.04.2-1.43.59L10.3 9.45l-7.72 7.72c-.78.78-.78 2.05 0 2.83L4 21.41c.39.39.9.59 1.41.59.51 0 1.02-.2 1.41-.59l7.78-7.78 2.81-2.81c.8-.78.8-2.07 0-2.86zM5.41 20L4 18.59l7.72-7.72 1.47 1.35L5.41 20z\"/>\n",
              "  </svg>\n",
              "      </button>\n",
              "      \n",
              "  <style>\n",
              "    .colab-df-container {\n",
              "      display:flex;\n",
              "      flex-wrap:wrap;\n",
              "      gap: 12px;\n",
              "    }\n",
              "\n",
              "    .colab-df-convert {\n",
              "      background-color: #E8F0FE;\n",
              "      border: none;\n",
              "      border-radius: 50%;\n",
              "      cursor: pointer;\n",
              "      display: none;\n",
              "      fill: #1967D2;\n",
              "      height: 32px;\n",
              "      padding: 0 0 0 0;\n",
              "      width: 32px;\n",
              "    }\n",
              "\n",
              "    .colab-df-convert:hover {\n",
              "      background-color: #E2EBFA;\n",
              "      box-shadow: 0px 1px 2px rgba(60, 64, 67, 0.3), 0px 1px 3px 1px rgba(60, 64, 67, 0.15);\n",
              "      fill: #174EA6;\n",
              "    }\n",
              "\n",
              "    [theme=dark] .colab-df-convert {\n",
              "      background-color: #3B4455;\n",
              "      fill: #D2E3FC;\n",
              "    }\n",
              "\n",
              "    [theme=dark] .colab-df-convert:hover {\n",
              "      background-color: #434B5C;\n",
              "      box-shadow: 0px 1px 3px 1px rgba(0, 0, 0, 0.15);\n",
              "      filter: drop-shadow(0px 1px 2px rgba(0, 0, 0, 0.3));\n",
              "      fill: #FFFFFF;\n",
              "    }\n",
              "  </style>\n",
              "\n",
              "      <script>\n",
              "        const buttonEl =\n",
              "          document.querySelector('#df-579fd500-049c-45c0-a694-8f5432b355a2 button.colab-df-convert');\n",
              "        buttonEl.style.display =\n",
              "          google.colab.kernel.accessAllowed ? 'block' : 'none';\n",
              "\n",
              "        async function convertToInteractive(key) {\n",
              "          const element = document.querySelector('#df-579fd500-049c-45c0-a694-8f5432b355a2');\n",
              "          const dataTable =\n",
              "            await google.colab.kernel.invokeFunction('convertToInteractive',\n",
              "                                                     [key], {});\n",
              "          if (!dataTable) return;\n",
              "\n",
              "          const docLinkHtml = 'Like what you see? Visit the ' +\n",
              "            '<a target=\"_blank\" href=https://colab.research.google.com/notebooks/data_table.ipynb>data table notebook</a>'\n",
              "            + ' to learn more about interactive tables.';\n",
              "          element.innerHTML = '';\n",
              "          dataTable['output_type'] = 'display_data';\n",
              "          await google.colab.output.renderOutput(dataTable, element);\n",
              "          const docLink = document.createElement('div');\n",
              "          docLink.innerHTML = docLinkHtml;\n",
              "          element.appendChild(docLink);\n",
              "        }\n",
              "      </script>\n",
              "    </div>\n",
              "  </div>\n",
              "  "
            ]
          },
          "metadata": {},
          "execution_count": 6
        }
      ]
    },
    {
      "cell_type": "code",
      "source": [
        "# read in kicking csv file and check our data\n",
        "url='https://drive.google.com/file/d/1MQ_WfL_JaJuY8iwvIghoU_-sKvrhy4qP/view?usp=sharing'\n",
        "url='https://drive.google.com/uc?id=' + url.split('/')[-2]\n",
        "df_kicking = pd.read_csv(url)\n",
        "df_kicking"
      ],
      "metadata": {
        "colab": {
          "base_uri": "https://localhost:8080/",
          "height": 483
        },
        "id": "HnXCKISWB6qx",
        "outputId": "31c90094-6148-4e70-8a27-20ade6ea6d3f"
      },
      "execution_count": 7,
      "outputs": [
        {
          "output_type": "execute_result",
          "data": {
            "text/plain": [
              "           game_id Off_abbrev Def_abbrev  fga  fgm  xpa  xpm  fga_0_39  \\\n",
              "0     201909050chi        CHI        GNB    1    1    0    0         1   \n",
              "1     201909050chi        GNB        CHI    1    1    1    1         1   \n",
              "2     201909080car        CAR        LAR    3    2    3    3         0   \n",
              "3     201909080car        LAR        CAR    4    3    3    3         1   \n",
              "4     201909080cle        TEN        CLE    2    2    5    5         1   \n",
              "...            ...        ...        ...  ...  ...  ...  ...       ...   \n",
              "1946  202211200rav        BAL        CAR    2    2    1    1         2   \n",
              "1947  202211200sdg        KAN        LAC    3    3    3    3         2   \n",
              "1948  202211200sdg        LAC        KAN    2    2    3    3         1   \n",
              "1949  202211210crd        SFO        ARI    1    1    5    5         0   \n",
              "1950  202211210crd        ARI        SFO    1    1    1    1         0   \n",
              "\n",
              "      fgm_0_39  fga_40_49  ...     OT      Roof     Surface Temperature  \\\n",
              "0            1          0  ...  False  outdoors       grass          65   \n",
              "1            1          0  ...  False  outdoors       grass          65   \n",
              "2            0          1  ...  False  outdoors       grass          87   \n",
              "3            1          2  ...  False  outdoors       grass          87   \n",
              "4            1          0  ...  False  outdoors       grass          71   \n",
              "...        ...        ...  ...    ...       ...         ...         ...   \n",
              "1946         2          0  ...  False  outdoors       grass          36   \n",
              "1947         2          0  ...  False      dome  matrixturf          72   \n",
              "1948         1          1  ...  False      dome  matrixturf          72   \n",
              "1949         0          0  ...  False  outdoors       grass          64   \n",
              "1950         0          1  ...  False  outdoors       grass          64   \n",
              "\n",
              "      Humidity  Wind_Speed  Vegas_Line Vegas_Favorite Over_Under   game_date  \n",
              "0           69          10        -3.5            CHI       47.0  2019-09-05  \n",
              "1           69          10        -3.5            CHI       47.0  2019-09-05  \n",
              "2           53           3        -1.5            LAR       49.5  2019-09-08  \n",
              "3           53           3        -1.5            LAR       49.5  2019-09-08  \n",
              "4           55          10        -5.5            CLE       44.0  2019-09-08  \n",
              "...        ...         ...         ...            ...        ...         ...  \n",
              "1946        24           2         NaN            NaN        NaN  2022-11-20  \n",
              "1947        45           0         NaN            NaN        NaN  2022-11-20  \n",
              "1948        45           0         NaN            NaN        NaN  2022-11-20  \n",
              "1949        52           4         NaN            NaN        NaN  2022-11-21  \n",
              "1950        52           4         NaN            NaN        NaN  2022-11-21  \n",
              "\n",
              "[1951 rows x 31 columns]"
            ],
            "text/html": [
              "\n",
              "  <div id=\"df-83b3bc33-56aa-42c2-9bb4-f1a735b46f49\">\n",
              "    <div class=\"colab-df-container\">\n",
              "      <div>\n",
              "<style scoped>\n",
              "    .dataframe tbody tr th:only-of-type {\n",
              "        vertical-align: middle;\n",
              "    }\n",
              "\n",
              "    .dataframe tbody tr th {\n",
              "        vertical-align: top;\n",
              "    }\n",
              "\n",
              "    .dataframe thead th {\n",
              "        text-align: right;\n",
              "    }\n",
              "</style>\n",
              "<table border=\"1\" class=\"dataframe\">\n",
              "  <thead>\n",
              "    <tr style=\"text-align: right;\">\n",
              "      <th></th>\n",
              "      <th>game_id</th>\n",
              "      <th>Off_abbrev</th>\n",
              "      <th>Def_abbrev</th>\n",
              "      <th>fga</th>\n",
              "      <th>fgm</th>\n",
              "      <th>xpa</th>\n",
              "      <th>xpm</th>\n",
              "      <th>fga_0_39</th>\n",
              "      <th>fgm_0_39</th>\n",
              "      <th>fga_40_49</th>\n",
              "      <th>...</th>\n",
              "      <th>OT</th>\n",
              "      <th>Roof</th>\n",
              "      <th>Surface</th>\n",
              "      <th>Temperature</th>\n",
              "      <th>Humidity</th>\n",
              "      <th>Wind_Speed</th>\n",
              "      <th>Vegas_Line</th>\n",
              "      <th>Vegas_Favorite</th>\n",
              "      <th>Over_Under</th>\n",
              "      <th>game_date</th>\n",
              "    </tr>\n",
              "  </thead>\n",
              "  <tbody>\n",
              "    <tr>\n",
              "      <th>0</th>\n",
              "      <td>201909050chi</td>\n",
              "      <td>CHI</td>\n",
              "      <td>GNB</td>\n",
              "      <td>1</td>\n",
              "      <td>1</td>\n",
              "      <td>0</td>\n",
              "      <td>0</td>\n",
              "      <td>1</td>\n",
              "      <td>1</td>\n",
              "      <td>0</td>\n",
              "      <td>...</td>\n",
              "      <td>False</td>\n",
              "      <td>outdoors</td>\n",
              "      <td>grass</td>\n",
              "      <td>65</td>\n",
              "      <td>69</td>\n",
              "      <td>10</td>\n",
              "      <td>-3.5</td>\n",
              "      <td>CHI</td>\n",
              "      <td>47.0</td>\n",
              "      <td>2019-09-05</td>\n",
              "    </tr>\n",
              "    <tr>\n",
              "      <th>1</th>\n",
              "      <td>201909050chi</td>\n",
              "      <td>GNB</td>\n",
              "      <td>CHI</td>\n",
              "      <td>1</td>\n",
              "      <td>1</td>\n",
              "      <td>1</td>\n",
              "      <td>1</td>\n",
              "      <td>1</td>\n",
              "      <td>1</td>\n",
              "      <td>0</td>\n",
              "      <td>...</td>\n",
              "      <td>False</td>\n",
              "      <td>outdoors</td>\n",
              "      <td>grass</td>\n",
              "      <td>65</td>\n",
              "      <td>69</td>\n",
              "      <td>10</td>\n",
              "      <td>-3.5</td>\n",
              "      <td>CHI</td>\n",
              "      <td>47.0</td>\n",
              "      <td>2019-09-05</td>\n",
              "    </tr>\n",
              "    <tr>\n",
              "      <th>2</th>\n",
              "      <td>201909080car</td>\n",
              "      <td>CAR</td>\n",
              "      <td>LAR</td>\n",
              "      <td>3</td>\n",
              "      <td>2</td>\n",
              "      <td>3</td>\n",
              "      <td>3</td>\n",
              "      <td>0</td>\n",
              "      <td>0</td>\n",
              "      <td>1</td>\n",
              "      <td>...</td>\n",
              "      <td>False</td>\n",
              "      <td>outdoors</td>\n",
              "      <td>grass</td>\n",
              "      <td>87</td>\n",
              "      <td>53</td>\n",
              "      <td>3</td>\n",
              "      <td>-1.5</td>\n",
              "      <td>LAR</td>\n",
              "      <td>49.5</td>\n",
              "      <td>2019-09-08</td>\n",
              "    </tr>\n",
              "    <tr>\n",
              "      <th>3</th>\n",
              "      <td>201909080car</td>\n",
              "      <td>LAR</td>\n",
              "      <td>CAR</td>\n",
              "      <td>4</td>\n",
              "      <td>3</td>\n",
              "      <td>3</td>\n",
              "      <td>3</td>\n",
              "      <td>1</td>\n",
              "      <td>1</td>\n",
              "      <td>2</td>\n",
              "      <td>...</td>\n",
              "      <td>False</td>\n",
              "      <td>outdoors</td>\n",
              "      <td>grass</td>\n",
              "      <td>87</td>\n",
              "      <td>53</td>\n",
              "      <td>3</td>\n",
              "      <td>-1.5</td>\n",
              "      <td>LAR</td>\n",
              "      <td>49.5</td>\n",
              "      <td>2019-09-08</td>\n",
              "    </tr>\n",
              "    <tr>\n",
              "      <th>4</th>\n",
              "      <td>201909080cle</td>\n",
              "      <td>TEN</td>\n",
              "      <td>CLE</td>\n",
              "      <td>2</td>\n",
              "      <td>2</td>\n",
              "      <td>5</td>\n",
              "      <td>5</td>\n",
              "      <td>1</td>\n",
              "      <td>1</td>\n",
              "      <td>0</td>\n",
              "      <td>...</td>\n",
              "      <td>False</td>\n",
              "      <td>outdoors</td>\n",
              "      <td>grass</td>\n",
              "      <td>71</td>\n",
              "      <td>55</td>\n",
              "      <td>10</td>\n",
              "      <td>-5.5</td>\n",
              "      <td>CLE</td>\n",
              "      <td>44.0</td>\n",
              "      <td>2019-09-08</td>\n",
              "    </tr>\n",
              "    <tr>\n",
              "      <th>...</th>\n",
              "      <td>...</td>\n",
              "      <td>...</td>\n",
              "      <td>...</td>\n",
              "      <td>...</td>\n",
              "      <td>...</td>\n",
              "      <td>...</td>\n",
              "      <td>...</td>\n",
              "      <td>...</td>\n",
              "      <td>...</td>\n",
              "      <td>...</td>\n",
              "      <td>...</td>\n",
              "      <td>...</td>\n",
              "      <td>...</td>\n",
              "      <td>...</td>\n",
              "      <td>...</td>\n",
              "      <td>...</td>\n",
              "      <td>...</td>\n",
              "      <td>...</td>\n",
              "      <td>...</td>\n",
              "      <td>...</td>\n",
              "      <td>...</td>\n",
              "    </tr>\n",
              "    <tr>\n",
              "      <th>1946</th>\n",
              "      <td>202211200rav</td>\n",
              "      <td>BAL</td>\n",
              "      <td>CAR</td>\n",
              "      <td>2</td>\n",
              "      <td>2</td>\n",
              "      <td>1</td>\n",
              "      <td>1</td>\n",
              "      <td>2</td>\n",
              "      <td>2</td>\n",
              "      <td>0</td>\n",
              "      <td>...</td>\n",
              "      <td>False</td>\n",
              "      <td>outdoors</td>\n",
              "      <td>grass</td>\n",
              "      <td>36</td>\n",
              "      <td>24</td>\n",
              "      <td>2</td>\n",
              "      <td>NaN</td>\n",
              "      <td>NaN</td>\n",
              "      <td>NaN</td>\n",
              "      <td>2022-11-20</td>\n",
              "    </tr>\n",
              "    <tr>\n",
              "      <th>1947</th>\n",
              "      <td>202211200sdg</td>\n",
              "      <td>KAN</td>\n",
              "      <td>LAC</td>\n",
              "      <td>3</td>\n",
              "      <td>3</td>\n",
              "      <td>3</td>\n",
              "      <td>3</td>\n",
              "      <td>2</td>\n",
              "      <td>2</td>\n",
              "      <td>0</td>\n",
              "      <td>...</td>\n",
              "      <td>False</td>\n",
              "      <td>dome</td>\n",
              "      <td>matrixturf</td>\n",
              "      <td>72</td>\n",
              "      <td>45</td>\n",
              "      <td>0</td>\n",
              "      <td>NaN</td>\n",
              "      <td>NaN</td>\n",
              "      <td>NaN</td>\n",
              "      <td>2022-11-20</td>\n",
              "    </tr>\n",
              "    <tr>\n",
              "      <th>1948</th>\n",
              "      <td>202211200sdg</td>\n",
              "      <td>LAC</td>\n",
              "      <td>KAN</td>\n",
              "      <td>2</td>\n",
              "      <td>2</td>\n",
              "      <td>3</td>\n",
              "      <td>3</td>\n",
              "      <td>1</td>\n",
              "      <td>1</td>\n",
              "      <td>1</td>\n",
              "      <td>...</td>\n",
              "      <td>False</td>\n",
              "      <td>dome</td>\n",
              "      <td>matrixturf</td>\n",
              "      <td>72</td>\n",
              "      <td>45</td>\n",
              "      <td>0</td>\n",
              "      <td>NaN</td>\n",
              "      <td>NaN</td>\n",
              "      <td>NaN</td>\n",
              "      <td>2022-11-20</td>\n",
              "    </tr>\n",
              "    <tr>\n",
              "      <th>1949</th>\n",
              "      <td>202211210crd</td>\n",
              "      <td>SFO</td>\n",
              "      <td>ARI</td>\n",
              "      <td>1</td>\n",
              "      <td>1</td>\n",
              "      <td>5</td>\n",
              "      <td>5</td>\n",
              "      <td>0</td>\n",
              "      <td>0</td>\n",
              "      <td>0</td>\n",
              "      <td>...</td>\n",
              "      <td>False</td>\n",
              "      <td>outdoors</td>\n",
              "      <td>grass</td>\n",
              "      <td>64</td>\n",
              "      <td>52</td>\n",
              "      <td>4</td>\n",
              "      <td>NaN</td>\n",
              "      <td>NaN</td>\n",
              "      <td>NaN</td>\n",
              "      <td>2022-11-21</td>\n",
              "    </tr>\n",
              "    <tr>\n",
              "      <th>1950</th>\n",
              "      <td>202211210crd</td>\n",
              "      <td>ARI</td>\n",
              "      <td>SFO</td>\n",
              "      <td>1</td>\n",
              "      <td>1</td>\n",
              "      <td>1</td>\n",
              "      <td>1</td>\n",
              "      <td>0</td>\n",
              "      <td>0</td>\n",
              "      <td>1</td>\n",
              "      <td>...</td>\n",
              "      <td>False</td>\n",
              "      <td>outdoors</td>\n",
              "      <td>grass</td>\n",
              "      <td>64</td>\n",
              "      <td>52</td>\n",
              "      <td>4</td>\n",
              "      <td>NaN</td>\n",
              "      <td>NaN</td>\n",
              "      <td>NaN</td>\n",
              "      <td>2022-11-21</td>\n",
              "    </tr>\n",
              "  </tbody>\n",
              "</table>\n",
              "<p>1951 rows × 31 columns</p>\n",
              "</div>\n",
              "      <button class=\"colab-df-convert\" onclick=\"convertToInteractive('df-83b3bc33-56aa-42c2-9bb4-f1a735b46f49')\"\n",
              "              title=\"Convert this dataframe to an interactive table.\"\n",
              "              style=\"display:none;\">\n",
              "        \n",
              "  <svg xmlns=\"http://www.w3.org/2000/svg\" height=\"24px\"viewBox=\"0 0 24 24\"\n",
              "       width=\"24px\">\n",
              "    <path d=\"M0 0h24v24H0V0z\" fill=\"none\"/>\n",
              "    <path d=\"M18.56 5.44l.94 2.06.94-2.06 2.06-.94-2.06-.94-.94-2.06-.94 2.06-2.06.94zm-11 1L8.5 8.5l.94-2.06 2.06-.94-2.06-.94L8.5 2.5l-.94 2.06-2.06.94zm10 10l.94 2.06.94-2.06 2.06-.94-2.06-.94-.94-2.06-.94 2.06-2.06.94z\"/><path d=\"M17.41 7.96l-1.37-1.37c-.4-.4-.92-.59-1.43-.59-.52 0-1.04.2-1.43.59L10.3 9.45l-7.72 7.72c-.78.78-.78 2.05 0 2.83L4 21.41c.39.39.9.59 1.41.59.51 0 1.02-.2 1.41-.59l7.78-7.78 2.81-2.81c.8-.78.8-2.07 0-2.86zM5.41 20L4 18.59l7.72-7.72 1.47 1.35L5.41 20z\"/>\n",
              "  </svg>\n",
              "      </button>\n",
              "      \n",
              "  <style>\n",
              "    .colab-df-container {\n",
              "      display:flex;\n",
              "      flex-wrap:wrap;\n",
              "      gap: 12px;\n",
              "    }\n",
              "\n",
              "    .colab-df-convert {\n",
              "      background-color: #E8F0FE;\n",
              "      border: none;\n",
              "      border-radius: 50%;\n",
              "      cursor: pointer;\n",
              "      display: none;\n",
              "      fill: #1967D2;\n",
              "      height: 32px;\n",
              "      padding: 0 0 0 0;\n",
              "      width: 32px;\n",
              "    }\n",
              "\n",
              "    .colab-df-convert:hover {\n",
              "      background-color: #E2EBFA;\n",
              "      box-shadow: 0px 1px 2px rgba(60, 64, 67, 0.3), 0px 1px 3px 1px rgba(60, 64, 67, 0.15);\n",
              "      fill: #174EA6;\n",
              "    }\n",
              "\n",
              "    [theme=dark] .colab-df-convert {\n",
              "      background-color: #3B4455;\n",
              "      fill: #D2E3FC;\n",
              "    }\n",
              "\n",
              "    [theme=dark] .colab-df-convert:hover {\n",
              "      background-color: #434B5C;\n",
              "      box-shadow: 0px 1px 3px 1px rgba(0, 0, 0, 0.15);\n",
              "      filter: drop-shadow(0px 1px 2px rgba(0, 0, 0, 0.3));\n",
              "      fill: #FFFFFF;\n",
              "    }\n",
              "  </style>\n",
              "\n",
              "      <script>\n",
              "        const buttonEl =\n",
              "          document.querySelector('#df-83b3bc33-56aa-42c2-9bb4-f1a735b46f49 button.colab-df-convert');\n",
              "        buttonEl.style.display =\n",
              "          google.colab.kernel.accessAllowed ? 'block' : 'none';\n",
              "\n",
              "        async function convertToInteractive(key) {\n",
              "          const element = document.querySelector('#df-83b3bc33-56aa-42c2-9bb4-f1a735b46f49');\n",
              "          const dataTable =\n",
              "            await google.colab.kernel.invokeFunction('convertToInteractive',\n",
              "                                                     [key], {});\n",
              "          if (!dataTable) return;\n",
              "\n",
              "          const docLinkHtml = 'Like what you see? Visit the ' +\n",
              "            '<a target=\"_blank\" href=https://colab.research.google.com/notebooks/data_table.ipynb>data table notebook</a>'\n",
              "            + ' to learn more about interactive tables.';\n",
              "          element.innerHTML = '';\n",
              "          dataTable['output_type'] = 'display_data';\n",
              "          await google.colab.output.renderOutput(dataTable, element);\n",
              "          const docLink = document.createElement('div');\n",
              "          docLink.innerHTML = docLinkHtml;\n",
              "          element.appendChild(docLink);\n",
              "        }\n",
              "      </script>\n",
              "    </div>\n",
              "  </div>\n",
              "  "
            ]
          },
          "metadata": {},
          "execution_count": 7
        }
      ]
    },
    {
      "cell_type": "code",
      "source": [
        "# check data types\n",
        "df_prr.dtypes"
      ],
      "metadata": {
        "colab": {
          "base_uri": "https://localhost:8080/"
        },
        "id": "dnGG0pysmGJe",
        "outputId": "e69b6244-8598-461c-9c85-59849098b941"
      },
      "execution_count": 8,
      "outputs": [
        {
          "output_type": "execute_result",
          "data": {
            "text/plain": [
              "game_id            object\n",
              "player_id          object\n",
              "pos                object\n",
              "player             object\n",
              "team               object\n",
              "                   ...   \n",
              "Wind_Speed          int64\n",
              "Vegas_Line        float64\n",
              "Vegas_Favorite     object\n",
              "Over_Under        float64\n",
              "game_date          object\n",
              "Length: 69, dtype: object"
            ]
          },
          "metadata": {},
          "execution_count": 8
        }
      ]
    },
    {
      "cell_type": "code",
      "source": [
        "df_dst.dtypes"
      ],
      "metadata": {
        "colab": {
          "base_uri": "https://localhost:8080/"
        },
        "id": "HzKtjnTHqgnp",
        "outputId": "8842b222-ace0-4b8a-b5de-cee0d78a20ef"
      },
      "execution_count": 9,
      "outputs": [
        {
          "output_type": "execute_result",
          "data": {
            "text/plain": [
              "game_id                  object\n",
              "team                     object\n",
              "def_int                   int64\n",
              "def_int_td                int64\n",
              "sacks                     int64\n",
              "fumbles_rec               int64\n",
              "fumbles_rec_td            int64\n",
              "blocked_kick              int64\n",
              "safety                    int64\n",
              "def_two_point_conv        int64\n",
              "total_ret_td              int64\n",
              "Team_abbrev              object\n",
              "Opponent_abbrev          object\n",
              "Opponent_score            int64\n",
              "points_allowed_0          int64\n",
              "points_allowed_1_6        int64\n",
              "points_allowed_7_13       int64\n",
              "points_allowed_14_20      int64\n",
              "points_allowed_21_27      int64\n",
              "points_allowed_28_34      int64\n",
              "points_allowed_35         int64\n",
              "Total_DKP                 int64\n",
              "Total_FDP                 int64\n",
              "vis_team                 object\n",
              "home_team                object\n",
              "vis_score                 int64\n",
              "home_score                int64\n",
              "OT                         bool\n",
              "Roof                     object\n",
              "Surface                  object\n",
              "Temperature               int64\n",
              "Humidity                  int64\n",
              "Wind_Speed                int64\n",
              "Vegas_Line              float64\n",
              "Vegas_Favorite           object\n",
              "Over_Under              float64\n",
              "game_date                object\n",
              "dtype: object"
            ]
          },
          "metadata": {},
          "execution_count": 9
        }
      ]
    },
    {
      "cell_type": "code",
      "source": [
        "df_kicking.dtypes"
      ],
      "metadata": {
        "colab": {
          "base_uri": "https://localhost:8080/"
        },
        "id": "sW73Sr84qjxb",
        "outputId": "443fff3f-4f71-4d44-a726-0040acedbb58"
      },
      "execution_count": 10,
      "outputs": [
        {
          "output_type": "execute_result",
          "data": {
            "text/plain": [
              "game_id            object\n",
              "Off_abbrev         object\n",
              "Def_abbrev         object\n",
              "fga                 int64\n",
              "fgm                 int64\n",
              "xpa                 int64\n",
              "xpm                 int64\n",
              "fga_0_39            int64\n",
              "fgm_0_39            int64\n",
              "fga_40_49           int64\n",
              "fgm_40_49           int64\n",
              "fga_50              int64\n",
              "fgm_50              int64\n",
              "player             object\n",
              "Total_DKP           int64\n",
              "Total_FDP           int64\n",
              "Total_SDP           int64\n",
              "vis_team           object\n",
              "home_team          object\n",
              "vis_score           int64\n",
              "home_score          int64\n",
              "OT                   bool\n",
              "Roof               object\n",
              "Surface            object\n",
              "Temperature         int64\n",
              "Humidity            int64\n",
              "Wind_Speed          int64\n",
              "Vegas_Line        float64\n",
              "Vegas_Favorite     object\n",
              "Over_Under        float64\n",
              "game_date          object\n",
              "dtype: object"
            ]
          },
          "metadata": {},
          "execution_count": 10
        }
      ]
    },
    {
      "cell_type": "markdown",
      "source": [
        "# Modifying our data frames\n",
        "\n",
        "Since much of the information like weather data and visiting/home score are repeated across the data frames, we will keep game_id in each as our primary key and select specific columns applying to each new data frame like game information and weather data to reduce reduncancy. We also need to check each data frame we create for NaNs, because I spotted several errors while scrolling through the raw data.\n",
        "\n",
        "For our game information data frame, we should drop duplicate rows because the same game is repeated twice, with the same game id followed by data for each home and visitor team. The information we'll need from each game like the home score and visitor score will be the same for both rows, so we need not worry about losing important data."
      ],
      "metadata": {
        "id": "NgroTRf9aONW"
      }
    },
    {
      "cell_type": "code",
      "source": [
        "# create game outcome dataframe and drop duplicates to get rid of the same game being shown for both teams.\n",
        "game_info = df_prr[['game_id', 'home_team', 'vis_team', 'home_score', 'vis_score', 'OT', 'Vegas_Favorite', 'game_date']]\n",
        "game_info.shape"
      ],
      "metadata": {
        "colab": {
          "base_uri": "https://localhost:8080/"
        },
        "id": "2RKKaiU6xZ5J",
        "outputId": "e2701cc3-ec82-40ee-ac47-091fe7f6243d"
      },
      "execution_count": 11,
      "outputs": [
        {
          "output_type": "execute_result",
          "data": {
            "text/plain": [
              "(23958, 8)"
            ]
          },
          "metadata": {},
          "execution_count": 11
        }
      ]
    },
    {
      "cell_type": "code",
      "source": [
        "#check for NaNs\n",
        "game_info.isna().sum().sum()"
      ],
      "metadata": {
        "colab": {
          "base_uri": "https://localhost:8080/"
        },
        "id": "7uf8XdrB1hXr",
        "outputId": "4a0056a6-b24d-4475-9c15-f1cb384b9052"
      },
      "execution_count": 12,
      "outputs": [
        {
          "output_type": "execute_result",
          "data": {
            "text/plain": [
              "1052"
            ]
          },
          "metadata": {},
          "execution_count": 12
        }
      ]
    },
    {
      "cell_type": "code",
      "source": [
        "#drop NaNs\n",
        "game_info = game_info.dropna()\n",
        "game_info.shape"
      ],
      "metadata": {
        "colab": {
          "base_uri": "https://localhost:8080/"
        },
        "id": "q9qnbsyI6mP7",
        "outputId": "d334bf2d-adda-4dc8-8ebb-18bd935a5344"
      },
      "execution_count": 13,
      "outputs": [
        {
          "output_type": "execute_result",
          "data": {
            "text/plain": [
              "(22906, 8)"
            ]
          },
          "metadata": {},
          "execution_count": 13
        }
      ]
    },
    {
      "cell_type": "code",
      "source": [
        "# Convert game_date from object to date.\n",
        "game_info['game_date'] = pd.to_datetime(game_info['game_date'])"
      ],
      "metadata": {
        "id": "ZvhR0knhzNIF"
      },
      "execution_count": 14,
      "outputs": []
    },
    {
      "cell_type": "code",
      "source": [
        "# Check our conversion by checking data types of game_info.\n",
        "game_info.dtypes"
      ],
      "metadata": {
        "colab": {
          "base_uri": "https://localhost:8080/"
        },
        "id": "hZh2HNyEzt1g",
        "outputId": "b1003f14-66de-417c-8200-e1c11c68333a"
      },
      "execution_count": 15,
      "outputs": [
        {
          "output_type": "execute_result",
          "data": {
            "text/plain": [
              "game_id                   object\n",
              "home_team                 object\n",
              "vis_team                  object\n",
              "home_score                 int64\n",
              "vis_score                  int64\n",
              "OT                          bool\n",
              "Vegas_Favorite            object\n",
              "game_date         datetime64[ns]\n",
              "dtype: object"
            ]
          },
          "metadata": {},
          "execution_count": 15
        }
      ]
    },
    {
      "cell_type": "markdown",
      "source": [
        "Our game_info table contains many duplicates, as the original table has stats for many players from the same game. We only need the results of a single game one time, so let's drop our duplicates since the score will be the same whether we're looking at the visiting or home team."
      ],
      "metadata": {
        "id": "3qZT3bcoLLOX"
      }
    },
    {
      "cell_type": "code",
      "source": [
        "game_info = game_info.drop_duplicates()"
      ],
      "metadata": {
        "id": "cwVqu0UJK-4y"
      },
      "execution_count": 16,
      "outputs": []
    },
    {
      "cell_type": "code",
      "source": [
        "# Check columns of game_info\n",
        "game_info.head()"
      ],
      "metadata": {
        "colab": {
          "base_uri": "https://localhost:8080/",
          "height": 204
        },
        "id": "AJ4awppKxQaq",
        "outputId": "5fea37c6-f55a-44d0-f71f-518baab2513f"
      },
      "execution_count": 17,
      "outputs": [
        {
          "output_type": "execute_result",
          "data": {
            "text/plain": [
              "         game_id home_team vis_team  home_score  vis_score     OT  \\\n",
              "0   201909050chi       CHI      GNB           3         10  False   \n",
              "24  201909080car       CAR      LAR          27         30  False   \n",
              "44  201909080cle       CLE      TEN          13         43  False   \n",
              "68  201909080crd       ARI      DET          27         27   True   \n",
              "91  201909080dal       DAL      NYG          35         17  False   \n",
              "\n",
              "   Vegas_Favorite  game_date  \n",
              "0             CHI 2019-09-05  \n",
              "24            LAR 2019-09-08  \n",
              "44            CLE 2019-09-08  \n",
              "68            DET 2019-09-08  \n",
              "91            DAL 2019-09-08  "
            ],
            "text/html": [
              "\n",
              "  <div id=\"df-9d8fe284-69cb-4203-9000-fb099836ecda\">\n",
              "    <div class=\"colab-df-container\">\n",
              "      <div>\n",
              "<style scoped>\n",
              "    .dataframe tbody tr th:only-of-type {\n",
              "        vertical-align: middle;\n",
              "    }\n",
              "\n",
              "    .dataframe tbody tr th {\n",
              "        vertical-align: top;\n",
              "    }\n",
              "\n",
              "    .dataframe thead th {\n",
              "        text-align: right;\n",
              "    }\n",
              "</style>\n",
              "<table border=\"1\" class=\"dataframe\">\n",
              "  <thead>\n",
              "    <tr style=\"text-align: right;\">\n",
              "      <th></th>\n",
              "      <th>game_id</th>\n",
              "      <th>home_team</th>\n",
              "      <th>vis_team</th>\n",
              "      <th>home_score</th>\n",
              "      <th>vis_score</th>\n",
              "      <th>OT</th>\n",
              "      <th>Vegas_Favorite</th>\n",
              "      <th>game_date</th>\n",
              "    </tr>\n",
              "  </thead>\n",
              "  <tbody>\n",
              "    <tr>\n",
              "      <th>0</th>\n",
              "      <td>201909050chi</td>\n",
              "      <td>CHI</td>\n",
              "      <td>GNB</td>\n",
              "      <td>3</td>\n",
              "      <td>10</td>\n",
              "      <td>False</td>\n",
              "      <td>CHI</td>\n",
              "      <td>2019-09-05</td>\n",
              "    </tr>\n",
              "    <tr>\n",
              "      <th>24</th>\n",
              "      <td>201909080car</td>\n",
              "      <td>CAR</td>\n",
              "      <td>LAR</td>\n",
              "      <td>27</td>\n",
              "      <td>30</td>\n",
              "      <td>False</td>\n",
              "      <td>LAR</td>\n",
              "      <td>2019-09-08</td>\n",
              "    </tr>\n",
              "    <tr>\n",
              "      <th>44</th>\n",
              "      <td>201909080cle</td>\n",
              "      <td>CLE</td>\n",
              "      <td>TEN</td>\n",
              "      <td>13</td>\n",
              "      <td>43</td>\n",
              "      <td>False</td>\n",
              "      <td>CLE</td>\n",
              "      <td>2019-09-08</td>\n",
              "    </tr>\n",
              "    <tr>\n",
              "      <th>68</th>\n",
              "      <td>201909080crd</td>\n",
              "      <td>ARI</td>\n",
              "      <td>DET</td>\n",
              "      <td>27</td>\n",
              "      <td>27</td>\n",
              "      <td>True</td>\n",
              "      <td>DET</td>\n",
              "      <td>2019-09-08</td>\n",
              "    </tr>\n",
              "    <tr>\n",
              "      <th>91</th>\n",
              "      <td>201909080dal</td>\n",
              "      <td>DAL</td>\n",
              "      <td>NYG</td>\n",
              "      <td>35</td>\n",
              "      <td>17</td>\n",
              "      <td>False</td>\n",
              "      <td>DAL</td>\n",
              "      <td>2019-09-08</td>\n",
              "    </tr>\n",
              "  </tbody>\n",
              "</table>\n",
              "</div>\n",
              "      <button class=\"colab-df-convert\" onclick=\"convertToInteractive('df-9d8fe284-69cb-4203-9000-fb099836ecda')\"\n",
              "              title=\"Convert this dataframe to an interactive table.\"\n",
              "              style=\"display:none;\">\n",
              "        \n",
              "  <svg xmlns=\"http://www.w3.org/2000/svg\" height=\"24px\"viewBox=\"0 0 24 24\"\n",
              "       width=\"24px\">\n",
              "    <path d=\"M0 0h24v24H0V0z\" fill=\"none\"/>\n",
              "    <path d=\"M18.56 5.44l.94 2.06.94-2.06 2.06-.94-2.06-.94-.94-2.06-.94 2.06-2.06.94zm-11 1L8.5 8.5l.94-2.06 2.06-.94-2.06-.94L8.5 2.5l-.94 2.06-2.06.94zm10 10l.94 2.06.94-2.06 2.06-.94-2.06-.94-.94-2.06-.94 2.06-2.06.94z\"/><path d=\"M17.41 7.96l-1.37-1.37c-.4-.4-.92-.59-1.43-.59-.52 0-1.04.2-1.43.59L10.3 9.45l-7.72 7.72c-.78.78-.78 2.05 0 2.83L4 21.41c.39.39.9.59 1.41.59.51 0 1.02-.2 1.41-.59l7.78-7.78 2.81-2.81c.8-.78.8-2.07 0-2.86zM5.41 20L4 18.59l7.72-7.72 1.47 1.35L5.41 20z\"/>\n",
              "  </svg>\n",
              "      </button>\n",
              "      \n",
              "  <style>\n",
              "    .colab-df-container {\n",
              "      display:flex;\n",
              "      flex-wrap:wrap;\n",
              "      gap: 12px;\n",
              "    }\n",
              "\n",
              "    .colab-df-convert {\n",
              "      background-color: #E8F0FE;\n",
              "      border: none;\n",
              "      border-radius: 50%;\n",
              "      cursor: pointer;\n",
              "      display: none;\n",
              "      fill: #1967D2;\n",
              "      height: 32px;\n",
              "      padding: 0 0 0 0;\n",
              "      width: 32px;\n",
              "    }\n",
              "\n",
              "    .colab-df-convert:hover {\n",
              "      background-color: #E2EBFA;\n",
              "      box-shadow: 0px 1px 2px rgba(60, 64, 67, 0.3), 0px 1px 3px 1px rgba(60, 64, 67, 0.15);\n",
              "      fill: #174EA6;\n",
              "    }\n",
              "\n",
              "    [theme=dark] .colab-df-convert {\n",
              "      background-color: #3B4455;\n",
              "      fill: #D2E3FC;\n",
              "    }\n",
              "\n",
              "    [theme=dark] .colab-df-convert:hover {\n",
              "      background-color: #434B5C;\n",
              "      box-shadow: 0px 1px 3px 1px rgba(0, 0, 0, 0.15);\n",
              "      filter: drop-shadow(0px 1px 2px rgba(0, 0, 0, 0.3));\n",
              "      fill: #FFFFFF;\n",
              "    }\n",
              "  </style>\n",
              "\n",
              "      <script>\n",
              "        const buttonEl =\n",
              "          document.querySelector('#df-9d8fe284-69cb-4203-9000-fb099836ecda button.colab-df-convert');\n",
              "        buttonEl.style.display =\n",
              "          google.colab.kernel.accessAllowed ? 'block' : 'none';\n",
              "\n",
              "        async function convertToInteractive(key) {\n",
              "          const element = document.querySelector('#df-9d8fe284-69cb-4203-9000-fb099836ecda');\n",
              "          const dataTable =\n",
              "            await google.colab.kernel.invokeFunction('convertToInteractive',\n",
              "                                                     [key], {});\n",
              "          if (!dataTable) return;\n",
              "\n",
              "          const docLinkHtml = 'Like what you see? Visit the ' +\n",
              "            '<a target=\"_blank\" href=https://colab.research.google.com/notebooks/data_table.ipynb>data table notebook</a>'\n",
              "            + ' to learn more about interactive tables.';\n",
              "          element.innerHTML = '';\n",
              "          dataTable['output_type'] = 'display_data';\n",
              "          await google.colab.output.renderOutput(dataTable, element);\n",
              "          const docLink = document.createElement('div');\n",
              "          docLink.innerHTML = docLinkHtml;\n",
              "          element.appendChild(docLink);\n",
              "        }\n",
              "      </script>\n",
              "    </div>\n",
              "  </div>\n",
              "  "
            ]
          },
          "metadata": {},
          "execution_count": 17
        }
      ]
    },
    {
      "cell_type": "markdown",
      "source": [
        "The duplicate information for each game has successfully been dropped!"
      ],
      "metadata": {
        "id": "mPst9qwNLtxI"
      }
    },
    {
      "cell_type": "code",
      "source": [
        "# create quarterback dataframe and name the columns so we can index them\n",
        "quarterbacks = df_prr[['game_id', 'player', 'team', 'pos', 'pass_att', 'pass_cmp', 'pass_yds', 'pass_td', 'pass_int', 'pass_sacked', 'rush_yds', 'rush_td']]\n",
        "quarterbacks.columns = ['game_id', 'player', 'team', 'pos', 'pass_att', 'pass_cmp', 'pass_yds', 'pass_td', 'pass_int', 'pass_sacked', 'rush_yds', 'rush_td']\n",
        "quarterbacks.head()\n"
      ],
      "metadata": {
        "colab": {
          "base_uri": "https://localhost:8080/",
          "height": 370
        },
        "id": "uA_Fz77Yq1_C",
        "outputId": "2b1b1cda-c1c6-4465-9f78-68ae4e86fc2b"
      },
      "execution_count": 18,
      "outputs": [
        {
          "output_type": "execute_result",
          "data": {
            "text/plain": [
              "        game_id                    player team pos  pass_att  pass_cmp  \\\n",
              "0  201909050chi             Aaron Rodgers  GNB  QB        30        18   \n",
              "1  201909050chi               Aaron Jones  GNB  RB         0         0   \n",
              "2  201909050chi  Marquez Valdes-Scantling  GNB  WR         0         0   \n",
              "3  201909050chi             Davante Adams  GNB  WR         0         0   \n",
              "4  201909050chi              Jimmy Graham  GNB  TE         0         0   \n",
              "\n",
              "   pass_yds  pass_td  pass_int  pass_sacked  rush_yds  rush_td  \n",
              "0       203        1         0            5         8        0  \n",
              "1         0        0         0            0        39        0  \n",
              "2         0        0         0            0         0        0  \n",
              "3         0        0         0            0         0        0  \n",
              "4         0        0         0            0         0        0  "
            ],
            "text/html": [
              "\n",
              "  <div id=\"df-fd5e74ab-ac39-4816-b30f-be5e8e13a02a\">\n",
              "    <div class=\"colab-df-container\">\n",
              "      <div>\n",
              "<style scoped>\n",
              "    .dataframe tbody tr th:only-of-type {\n",
              "        vertical-align: middle;\n",
              "    }\n",
              "\n",
              "    .dataframe tbody tr th {\n",
              "        vertical-align: top;\n",
              "    }\n",
              "\n",
              "    .dataframe thead th {\n",
              "        text-align: right;\n",
              "    }\n",
              "</style>\n",
              "<table border=\"1\" class=\"dataframe\">\n",
              "  <thead>\n",
              "    <tr style=\"text-align: right;\">\n",
              "      <th></th>\n",
              "      <th>game_id</th>\n",
              "      <th>player</th>\n",
              "      <th>team</th>\n",
              "      <th>pos</th>\n",
              "      <th>pass_att</th>\n",
              "      <th>pass_cmp</th>\n",
              "      <th>pass_yds</th>\n",
              "      <th>pass_td</th>\n",
              "      <th>pass_int</th>\n",
              "      <th>pass_sacked</th>\n",
              "      <th>rush_yds</th>\n",
              "      <th>rush_td</th>\n",
              "    </tr>\n",
              "  </thead>\n",
              "  <tbody>\n",
              "    <tr>\n",
              "      <th>0</th>\n",
              "      <td>201909050chi</td>\n",
              "      <td>Aaron Rodgers</td>\n",
              "      <td>GNB</td>\n",
              "      <td>QB</td>\n",
              "      <td>30</td>\n",
              "      <td>18</td>\n",
              "      <td>203</td>\n",
              "      <td>1</td>\n",
              "      <td>0</td>\n",
              "      <td>5</td>\n",
              "      <td>8</td>\n",
              "      <td>0</td>\n",
              "    </tr>\n",
              "    <tr>\n",
              "      <th>1</th>\n",
              "      <td>201909050chi</td>\n",
              "      <td>Aaron Jones</td>\n",
              "      <td>GNB</td>\n",
              "      <td>RB</td>\n",
              "      <td>0</td>\n",
              "      <td>0</td>\n",
              "      <td>0</td>\n",
              "      <td>0</td>\n",
              "      <td>0</td>\n",
              "      <td>0</td>\n",
              "      <td>39</td>\n",
              "      <td>0</td>\n",
              "    </tr>\n",
              "    <tr>\n",
              "      <th>2</th>\n",
              "      <td>201909050chi</td>\n",
              "      <td>Marquez Valdes-Scantling</td>\n",
              "      <td>GNB</td>\n",
              "      <td>WR</td>\n",
              "      <td>0</td>\n",
              "      <td>0</td>\n",
              "      <td>0</td>\n",
              "      <td>0</td>\n",
              "      <td>0</td>\n",
              "      <td>0</td>\n",
              "      <td>0</td>\n",
              "      <td>0</td>\n",
              "    </tr>\n",
              "    <tr>\n",
              "      <th>3</th>\n",
              "      <td>201909050chi</td>\n",
              "      <td>Davante Adams</td>\n",
              "      <td>GNB</td>\n",
              "      <td>WR</td>\n",
              "      <td>0</td>\n",
              "      <td>0</td>\n",
              "      <td>0</td>\n",
              "      <td>0</td>\n",
              "      <td>0</td>\n",
              "      <td>0</td>\n",
              "      <td>0</td>\n",
              "      <td>0</td>\n",
              "    </tr>\n",
              "    <tr>\n",
              "      <th>4</th>\n",
              "      <td>201909050chi</td>\n",
              "      <td>Jimmy Graham</td>\n",
              "      <td>GNB</td>\n",
              "      <td>TE</td>\n",
              "      <td>0</td>\n",
              "      <td>0</td>\n",
              "      <td>0</td>\n",
              "      <td>0</td>\n",
              "      <td>0</td>\n",
              "      <td>0</td>\n",
              "      <td>0</td>\n",
              "      <td>0</td>\n",
              "    </tr>\n",
              "  </tbody>\n",
              "</table>\n",
              "</div>\n",
              "      <button class=\"colab-df-convert\" onclick=\"convertToInteractive('df-fd5e74ab-ac39-4816-b30f-be5e8e13a02a')\"\n",
              "              title=\"Convert this dataframe to an interactive table.\"\n",
              "              style=\"display:none;\">\n",
              "        \n",
              "  <svg xmlns=\"http://www.w3.org/2000/svg\" height=\"24px\"viewBox=\"0 0 24 24\"\n",
              "       width=\"24px\">\n",
              "    <path d=\"M0 0h24v24H0V0z\" fill=\"none\"/>\n",
              "    <path d=\"M18.56 5.44l.94 2.06.94-2.06 2.06-.94-2.06-.94-.94-2.06-.94 2.06-2.06.94zm-11 1L8.5 8.5l.94-2.06 2.06-.94-2.06-.94L8.5 2.5l-.94 2.06-2.06.94zm10 10l.94 2.06.94-2.06 2.06-.94-2.06-.94-.94-2.06-.94 2.06-2.06.94z\"/><path d=\"M17.41 7.96l-1.37-1.37c-.4-.4-.92-.59-1.43-.59-.52 0-1.04.2-1.43.59L10.3 9.45l-7.72 7.72c-.78.78-.78 2.05 0 2.83L4 21.41c.39.39.9.59 1.41.59.51 0 1.02-.2 1.41-.59l7.78-7.78 2.81-2.81c.8-.78.8-2.07 0-2.86zM5.41 20L4 18.59l7.72-7.72 1.47 1.35L5.41 20z\"/>\n",
              "  </svg>\n",
              "      </button>\n",
              "      \n",
              "  <style>\n",
              "    .colab-df-container {\n",
              "      display:flex;\n",
              "      flex-wrap:wrap;\n",
              "      gap: 12px;\n",
              "    }\n",
              "\n",
              "    .colab-df-convert {\n",
              "      background-color: #E8F0FE;\n",
              "      border: none;\n",
              "      border-radius: 50%;\n",
              "      cursor: pointer;\n",
              "      display: none;\n",
              "      fill: #1967D2;\n",
              "      height: 32px;\n",
              "      padding: 0 0 0 0;\n",
              "      width: 32px;\n",
              "    }\n",
              "\n",
              "    .colab-df-convert:hover {\n",
              "      background-color: #E2EBFA;\n",
              "      box-shadow: 0px 1px 2px rgba(60, 64, 67, 0.3), 0px 1px 3px 1px rgba(60, 64, 67, 0.15);\n",
              "      fill: #174EA6;\n",
              "    }\n",
              "\n",
              "    [theme=dark] .colab-df-convert {\n",
              "      background-color: #3B4455;\n",
              "      fill: #D2E3FC;\n",
              "    }\n",
              "\n",
              "    [theme=dark] .colab-df-convert:hover {\n",
              "      background-color: #434B5C;\n",
              "      box-shadow: 0px 1px 3px 1px rgba(0, 0, 0, 0.15);\n",
              "      filter: drop-shadow(0px 1px 2px rgba(0, 0, 0, 0.3));\n",
              "      fill: #FFFFFF;\n",
              "    }\n",
              "  </style>\n",
              "\n",
              "      <script>\n",
              "        const buttonEl =\n",
              "          document.querySelector('#df-fd5e74ab-ac39-4816-b30f-be5e8e13a02a button.colab-df-convert');\n",
              "        buttonEl.style.display =\n",
              "          google.colab.kernel.accessAllowed ? 'block' : 'none';\n",
              "\n",
              "        async function convertToInteractive(key) {\n",
              "          const element = document.querySelector('#df-fd5e74ab-ac39-4816-b30f-be5e8e13a02a');\n",
              "          const dataTable =\n",
              "            await google.colab.kernel.invokeFunction('convertToInteractive',\n",
              "                                                     [key], {});\n",
              "          if (!dataTable) return;\n",
              "\n",
              "          const docLinkHtml = 'Like what you see? Visit the ' +\n",
              "            '<a target=\"_blank\" href=https://colab.research.google.com/notebooks/data_table.ipynb>data table notebook</a>'\n",
              "            + ' to learn more about interactive tables.';\n",
              "          element.innerHTML = '';\n",
              "          dataTable['output_type'] = 'display_data';\n",
              "          await google.colab.output.renderOutput(dataTable, element);\n",
              "          const docLink = document.createElement('div');\n",
              "          docLink.innerHTML = docLinkHtml;\n",
              "          element.appendChild(docLink);\n",
              "        }\n",
              "      </script>\n",
              "    </div>\n",
              "  </div>\n",
              "  "
            ]
          },
          "metadata": {},
          "execution_count": 18
        }
      ]
    },
    {
      "cell_type": "code",
      "source": [
        "# Restrict positions to just quarterback, so we should have a dataframe with each quarterback and the stats from their games played.\n",
        "# Then remove the position columns since we know every player is a quarterback. \n",
        "# Check the shape to make sure we have 12 columns.\n",
        "quarterbacks = quarterbacks[quarterbacks['pos'] == 'QB']\n",
        "quarterbacks = quarterbacks.drop(columns=['pos'])\n",
        "quarterbacks.shape\n"
      ],
      "metadata": {
        "colab": {
          "base_uri": "https://localhost:8080/"
        },
        "id": "5Pi20PevJKRA",
        "outputId": "4fc9d806-3ba8-4248-baa4-0804badd0765"
      },
      "execution_count": 19,
      "outputs": [
        {
          "output_type": "execute_result",
          "data": {
            "text/plain": [
              "(2365, 11)"
            ]
          },
          "metadata": {},
          "execution_count": 19
        }
      ]
    },
    {
      "cell_type": "code",
      "source": [
        "# Create the offensive players dataframe and check the columns.\n",
        "offense = df_prr[['game_id', 'team', 'pos', 'rush_yds', 'rush_td', 'rec', 'rec_yds', 'rec_td']]\n",
        "offense"
      ],
      "metadata": {
        "colab": {
          "base_uri": "https://localhost:8080/",
          "height": 419
        },
        "id": "n0NZFEEXMycW",
        "outputId": "65905c00-4fa2-4235-8157-dfb632eda78b"
      },
      "execution_count": 20,
      "outputs": [
        {
          "output_type": "execute_result",
          "data": {
            "text/plain": [
              "            game_id team pos  rush_yds  rush_td  rec  rec_yds  rec_td\n",
              "0      201909050chi  GNB  QB         8        0    0        0       0\n",
              "1      201909050chi  GNB  RB        39        0    1        0       0\n",
              "2      201909050chi  GNB  WR         0        0    4       52       0\n",
              "3      201909050chi  GNB  WR         0        0    4       36       0\n",
              "4      201909050chi  GNB  TE         0        0    3       30       1\n",
              "...             ...  ...  ..       ...      ...  ...      ...     ...\n",
              "23953  202211210crd  SFO  TE         0        0    0        0       0\n",
              "23954  202211210crd  SFO  TE         0        0    0        0       0\n",
              "23955  202211210crd  SFO  WR         0        0    0        0       0\n",
              "23956  202211210crd  SFO  TE         0        0    0        0       0\n",
              "23957  202211210crd  ARI  WR         0        0    0        0       0\n",
              "\n",
              "[23958 rows x 8 columns]"
            ],
            "text/html": [
              "\n",
              "  <div id=\"df-1153f2fc-5a4a-4cb1-ad56-698250f2b77d\">\n",
              "    <div class=\"colab-df-container\">\n",
              "      <div>\n",
              "<style scoped>\n",
              "    .dataframe tbody tr th:only-of-type {\n",
              "        vertical-align: middle;\n",
              "    }\n",
              "\n",
              "    .dataframe tbody tr th {\n",
              "        vertical-align: top;\n",
              "    }\n",
              "\n",
              "    .dataframe thead th {\n",
              "        text-align: right;\n",
              "    }\n",
              "</style>\n",
              "<table border=\"1\" class=\"dataframe\">\n",
              "  <thead>\n",
              "    <tr style=\"text-align: right;\">\n",
              "      <th></th>\n",
              "      <th>game_id</th>\n",
              "      <th>team</th>\n",
              "      <th>pos</th>\n",
              "      <th>rush_yds</th>\n",
              "      <th>rush_td</th>\n",
              "      <th>rec</th>\n",
              "      <th>rec_yds</th>\n",
              "      <th>rec_td</th>\n",
              "    </tr>\n",
              "  </thead>\n",
              "  <tbody>\n",
              "    <tr>\n",
              "      <th>0</th>\n",
              "      <td>201909050chi</td>\n",
              "      <td>GNB</td>\n",
              "      <td>QB</td>\n",
              "      <td>8</td>\n",
              "      <td>0</td>\n",
              "      <td>0</td>\n",
              "      <td>0</td>\n",
              "      <td>0</td>\n",
              "    </tr>\n",
              "    <tr>\n",
              "      <th>1</th>\n",
              "      <td>201909050chi</td>\n",
              "      <td>GNB</td>\n",
              "      <td>RB</td>\n",
              "      <td>39</td>\n",
              "      <td>0</td>\n",
              "      <td>1</td>\n",
              "      <td>0</td>\n",
              "      <td>0</td>\n",
              "    </tr>\n",
              "    <tr>\n",
              "      <th>2</th>\n",
              "      <td>201909050chi</td>\n",
              "      <td>GNB</td>\n",
              "      <td>WR</td>\n",
              "      <td>0</td>\n",
              "      <td>0</td>\n",
              "      <td>4</td>\n",
              "      <td>52</td>\n",
              "      <td>0</td>\n",
              "    </tr>\n",
              "    <tr>\n",
              "      <th>3</th>\n",
              "      <td>201909050chi</td>\n",
              "      <td>GNB</td>\n",
              "      <td>WR</td>\n",
              "      <td>0</td>\n",
              "      <td>0</td>\n",
              "      <td>4</td>\n",
              "      <td>36</td>\n",
              "      <td>0</td>\n",
              "    </tr>\n",
              "    <tr>\n",
              "      <th>4</th>\n",
              "      <td>201909050chi</td>\n",
              "      <td>GNB</td>\n",
              "      <td>TE</td>\n",
              "      <td>0</td>\n",
              "      <td>0</td>\n",
              "      <td>3</td>\n",
              "      <td>30</td>\n",
              "      <td>1</td>\n",
              "    </tr>\n",
              "    <tr>\n",
              "      <th>...</th>\n",
              "      <td>...</td>\n",
              "      <td>...</td>\n",
              "      <td>...</td>\n",
              "      <td>...</td>\n",
              "      <td>...</td>\n",
              "      <td>...</td>\n",
              "      <td>...</td>\n",
              "      <td>...</td>\n",
              "    </tr>\n",
              "    <tr>\n",
              "      <th>23953</th>\n",
              "      <td>202211210crd</td>\n",
              "      <td>SFO</td>\n",
              "      <td>TE</td>\n",
              "      <td>0</td>\n",
              "      <td>0</td>\n",
              "      <td>0</td>\n",
              "      <td>0</td>\n",
              "      <td>0</td>\n",
              "    </tr>\n",
              "    <tr>\n",
              "      <th>23954</th>\n",
              "      <td>202211210crd</td>\n",
              "      <td>SFO</td>\n",
              "      <td>TE</td>\n",
              "      <td>0</td>\n",
              "      <td>0</td>\n",
              "      <td>0</td>\n",
              "      <td>0</td>\n",
              "      <td>0</td>\n",
              "    </tr>\n",
              "    <tr>\n",
              "      <th>23955</th>\n",
              "      <td>202211210crd</td>\n",
              "      <td>SFO</td>\n",
              "      <td>WR</td>\n",
              "      <td>0</td>\n",
              "      <td>0</td>\n",
              "      <td>0</td>\n",
              "      <td>0</td>\n",
              "      <td>0</td>\n",
              "    </tr>\n",
              "    <tr>\n",
              "      <th>23956</th>\n",
              "      <td>202211210crd</td>\n",
              "      <td>SFO</td>\n",
              "      <td>TE</td>\n",
              "      <td>0</td>\n",
              "      <td>0</td>\n",
              "      <td>0</td>\n",
              "      <td>0</td>\n",
              "      <td>0</td>\n",
              "    </tr>\n",
              "    <tr>\n",
              "      <th>23957</th>\n",
              "      <td>202211210crd</td>\n",
              "      <td>ARI</td>\n",
              "      <td>WR</td>\n",
              "      <td>0</td>\n",
              "      <td>0</td>\n",
              "      <td>0</td>\n",
              "      <td>0</td>\n",
              "      <td>0</td>\n",
              "    </tr>\n",
              "  </tbody>\n",
              "</table>\n",
              "<p>23958 rows × 8 columns</p>\n",
              "</div>\n",
              "      <button class=\"colab-df-convert\" onclick=\"convertToInteractive('df-1153f2fc-5a4a-4cb1-ad56-698250f2b77d')\"\n",
              "              title=\"Convert this dataframe to an interactive table.\"\n",
              "              style=\"display:none;\">\n",
              "        \n",
              "  <svg xmlns=\"http://www.w3.org/2000/svg\" height=\"24px\"viewBox=\"0 0 24 24\"\n",
              "       width=\"24px\">\n",
              "    <path d=\"M0 0h24v24H0V0z\" fill=\"none\"/>\n",
              "    <path d=\"M18.56 5.44l.94 2.06.94-2.06 2.06-.94-2.06-.94-.94-2.06-.94 2.06-2.06.94zm-11 1L8.5 8.5l.94-2.06 2.06-.94-2.06-.94L8.5 2.5l-.94 2.06-2.06.94zm10 10l.94 2.06.94-2.06 2.06-.94-2.06-.94-.94-2.06-.94 2.06-2.06.94z\"/><path d=\"M17.41 7.96l-1.37-1.37c-.4-.4-.92-.59-1.43-.59-.52 0-1.04.2-1.43.59L10.3 9.45l-7.72 7.72c-.78.78-.78 2.05 0 2.83L4 21.41c.39.39.9.59 1.41.59.51 0 1.02-.2 1.41-.59l7.78-7.78 2.81-2.81c.8-.78.8-2.07 0-2.86zM5.41 20L4 18.59l7.72-7.72 1.47 1.35L5.41 20z\"/>\n",
              "  </svg>\n",
              "      </button>\n",
              "      \n",
              "  <style>\n",
              "    .colab-df-container {\n",
              "      display:flex;\n",
              "      flex-wrap:wrap;\n",
              "      gap: 12px;\n",
              "    }\n",
              "\n",
              "    .colab-df-convert {\n",
              "      background-color: #E8F0FE;\n",
              "      border: none;\n",
              "      border-radius: 50%;\n",
              "      cursor: pointer;\n",
              "      display: none;\n",
              "      fill: #1967D2;\n",
              "      height: 32px;\n",
              "      padding: 0 0 0 0;\n",
              "      width: 32px;\n",
              "    }\n",
              "\n",
              "    .colab-df-convert:hover {\n",
              "      background-color: #E2EBFA;\n",
              "      box-shadow: 0px 1px 2px rgba(60, 64, 67, 0.3), 0px 1px 3px 1px rgba(60, 64, 67, 0.15);\n",
              "      fill: #174EA6;\n",
              "    }\n",
              "\n",
              "    [theme=dark] .colab-df-convert {\n",
              "      background-color: #3B4455;\n",
              "      fill: #D2E3FC;\n",
              "    }\n",
              "\n",
              "    [theme=dark] .colab-df-convert:hover {\n",
              "      background-color: #434B5C;\n",
              "      box-shadow: 0px 1px 3px 1px rgba(0, 0, 0, 0.15);\n",
              "      filter: drop-shadow(0px 1px 2px rgba(0, 0, 0, 0.3));\n",
              "      fill: #FFFFFF;\n",
              "    }\n",
              "  </style>\n",
              "\n",
              "      <script>\n",
              "        const buttonEl =\n",
              "          document.querySelector('#df-1153f2fc-5a4a-4cb1-ad56-698250f2b77d button.colab-df-convert');\n",
              "        buttonEl.style.display =\n",
              "          google.colab.kernel.accessAllowed ? 'block' : 'none';\n",
              "\n",
              "        async function convertToInteractive(key) {\n",
              "          const element = document.querySelector('#df-1153f2fc-5a4a-4cb1-ad56-698250f2b77d');\n",
              "          const dataTable =\n",
              "            await google.colab.kernel.invokeFunction('convertToInteractive',\n",
              "                                                     [key], {});\n",
              "          if (!dataTable) return;\n",
              "\n",
              "          const docLinkHtml = 'Like what you see? Visit the ' +\n",
              "            '<a target=\"_blank\" href=https://colab.research.google.com/notebooks/data_table.ipynb>data table notebook</a>'\n",
              "            + ' to learn more about interactive tables.';\n",
              "          element.innerHTML = '';\n",
              "          dataTable['output_type'] = 'display_data';\n",
              "          await google.colab.output.renderOutput(dataTable, element);\n",
              "          const docLink = document.createElement('div');\n",
              "          docLink.innerHTML = docLinkHtml;\n",
              "          element.appendChild(docLink);\n",
              "        }\n",
              "      </script>\n",
              "    </div>\n",
              "  </div>\n",
              "  "
            ]
          },
          "metadata": {},
          "execution_count": 20
        }
      ]
    },
    {
      "cell_type": "code",
      "source": [
        "# Check offense for NaNs\n",
        "offense.isna().sum().sum()"
      ],
      "metadata": {
        "colab": {
          "base_uri": "https://localhost:8080/"
        },
        "id": "bHckg5vtPI6i",
        "outputId": "5398c51a-3ab4-4195-8c93-c26ef9f7284b"
      },
      "execution_count": 21,
      "outputs": [
        {
          "output_type": "execute_result",
          "data": {
            "text/plain": [
              "0"
            ]
          },
          "metadata": {},
          "execution_count": 21
        }
      ]
    },
    {
      "cell_type": "code",
      "source": [
        "# Create the defensive dataframe and check our columns.\n",
        "defensive_team = df_dst[['game_id', 'team', 'def_int', 'def_int_td', 'sacks', 'fumbles_rec', 'blocked_kick', 'safety', 'points_allowed_0', 'points_allowed_1_6', 'points_allowed_7_13', 'points_allowed_14_20', 'points_allowed_21_27', 'points_allowed_28_34', 'points_allowed_35']]\n",
        "defensive_team"
      ],
      "metadata": {
        "colab": {
          "base_uri": "https://localhost:8080/",
          "height": 483
        },
        "id": "ve-Q1KqmOH40",
        "outputId": "b8945527-0e8e-4d43-ea39-3f866a1aee08"
      },
      "execution_count": 90,
      "outputs": [
        {
          "output_type": "execute_result",
          "data": {
            "text/plain": [
              "           game_id team  def_int  def_int_td  sacks  fumbles_rec  \\\n",
              "0     201909050chi  CHI        0           0      5            0   \n",
              "1     201909050chi  GNB        1           0      5            0   \n",
              "2     201909080car  LAR        1           0      3            2   \n",
              "3     201909080car  CAR        1           0      1            0   \n",
              "4     201909080cle  CLE        0           0      4            0   \n",
              "...            ...  ...      ...         ...    ...          ...   \n",
              "1936  202211200rav  CAR        1           0      3            0   \n",
              "1937  202211200sdg  KAN        1           0      5            1   \n",
              "1938  202211200sdg  LAC        0           0      1            1   \n",
              "1939  202211210crd  ARI        0           0      0            0   \n",
              "1940  202211210crd  SFO        2           0      3            0   \n",
              "\n",
              "      blocked_kick  safety  points_allowed_0  points_allowed_1_6  \\\n",
              "0                0       0                 0                   0   \n",
              "1                0       0                 0                   1   \n",
              "2                0       0                 0                   0   \n",
              "3                1       0                 0                   0   \n",
              "4                0       0                 0                   0   \n",
              "...            ...     ...               ...                 ...   \n",
              "1936             0       0                 0                   0   \n",
              "1937             0       0                 0                   0   \n",
              "1938             0       0                 0                   0   \n",
              "1939             0       0                 0                   0   \n",
              "1940             0       0                 0                   0   \n",
              "\n",
              "      points_allowed_7_13  points_allowed_14_20  points_allowed_21_27  \\\n",
              "0                       1                     0                     0   \n",
              "1                       0                     0                     0   \n",
              "2                       0                     0                     1   \n",
              "3                       0                     0                     0   \n",
              "4                       0                     0                     0   \n",
              "...                   ...                   ...                   ...   \n",
              "1936                    1                     0                     0   \n",
              "1937                    0                     0                     1   \n",
              "1938                    0                     0                     0   \n",
              "1939                    0                     0                     0   \n",
              "1940                    1                     0                     0   \n",
              "\n",
              "      points_allowed_28_34  points_allowed_35  \n",
              "0                        0                  0  \n",
              "1                        0                  0  \n",
              "2                        0                  0  \n",
              "3                        1                  0  \n",
              "4                        0                  1  \n",
              "...                    ...                ...  \n",
              "1936                     0                  0  \n",
              "1937                     0                  0  \n",
              "1938                     1                  0  \n",
              "1939                     0                  1  \n",
              "1940                     0                  0  \n",
              "\n",
              "[1941 rows x 15 columns]"
            ],
            "text/html": [
              "\n",
              "  <div id=\"df-7cea2e1f-d8d0-44c4-9745-1e0c146d6940\">\n",
              "    <div class=\"colab-df-container\">\n",
              "      <div>\n",
              "<style scoped>\n",
              "    .dataframe tbody tr th:only-of-type {\n",
              "        vertical-align: middle;\n",
              "    }\n",
              "\n",
              "    .dataframe tbody tr th {\n",
              "        vertical-align: top;\n",
              "    }\n",
              "\n",
              "    .dataframe thead th {\n",
              "        text-align: right;\n",
              "    }\n",
              "</style>\n",
              "<table border=\"1\" class=\"dataframe\">\n",
              "  <thead>\n",
              "    <tr style=\"text-align: right;\">\n",
              "      <th></th>\n",
              "      <th>game_id</th>\n",
              "      <th>team</th>\n",
              "      <th>def_int</th>\n",
              "      <th>def_int_td</th>\n",
              "      <th>sacks</th>\n",
              "      <th>fumbles_rec</th>\n",
              "      <th>blocked_kick</th>\n",
              "      <th>safety</th>\n",
              "      <th>points_allowed_0</th>\n",
              "      <th>points_allowed_1_6</th>\n",
              "      <th>points_allowed_7_13</th>\n",
              "      <th>points_allowed_14_20</th>\n",
              "      <th>points_allowed_21_27</th>\n",
              "      <th>points_allowed_28_34</th>\n",
              "      <th>points_allowed_35</th>\n",
              "    </tr>\n",
              "  </thead>\n",
              "  <tbody>\n",
              "    <tr>\n",
              "      <th>0</th>\n",
              "      <td>201909050chi</td>\n",
              "      <td>CHI</td>\n",
              "      <td>0</td>\n",
              "      <td>0</td>\n",
              "      <td>5</td>\n",
              "      <td>0</td>\n",
              "      <td>0</td>\n",
              "      <td>0</td>\n",
              "      <td>0</td>\n",
              "      <td>0</td>\n",
              "      <td>1</td>\n",
              "      <td>0</td>\n",
              "      <td>0</td>\n",
              "      <td>0</td>\n",
              "      <td>0</td>\n",
              "    </tr>\n",
              "    <tr>\n",
              "      <th>1</th>\n",
              "      <td>201909050chi</td>\n",
              "      <td>GNB</td>\n",
              "      <td>1</td>\n",
              "      <td>0</td>\n",
              "      <td>5</td>\n",
              "      <td>0</td>\n",
              "      <td>0</td>\n",
              "      <td>0</td>\n",
              "      <td>0</td>\n",
              "      <td>1</td>\n",
              "      <td>0</td>\n",
              "      <td>0</td>\n",
              "      <td>0</td>\n",
              "      <td>0</td>\n",
              "      <td>0</td>\n",
              "    </tr>\n",
              "    <tr>\n",
              "      <th>2</th>\n",
              "      <td>201909080car</td>\n",
              "      <td>LAR</td>\n",
              "      <td>1</td>\n",
              "      <td>0</td>\n",
              "      <td>3</td>\n",
              "      <td>2</td>\n",
              "      <td>0</td>\n",
              "      <td>0</td>\n",
              "      <td>0</td>\n",
              "      <td>0</td>\n",
              "      <td>0</td>\n",
              "      <td>0</td>\n",
              "      <td>1</td>\n",
              "      <td>0</td>\n",
              "      <td>0</td>\n",
              "    </tr>\n",
              "    <tr>\n",
              "      <th>3</th>\n",
              "      <td>201909080car</td>\n",
              "      <td>CAR</td>\n",
              "      <td>1</td>\n",
              "      <td>0</td>\n",
              "      <td>1</td>\n",
              "      <td>0</td>\n",
              "      <td>1</td>\n",
              "      <td>0</td>\n",
              "      <td>0</td>\n",
              "      <td>0</td>\n",
              "      <td>0</td>\n",
              "      <td>0</td>\n",
              "      <td>0</td>\n",
              "      <td>1</td>\n",
              "      <td>0</td>\n",
              "    </tr>\n",
              "    <tr>\n",
              "      <th>4</th>\n",
              "      <td>201909080cle</td>\n",
              "      <td>CLE</td>\n",
              "      <td>0</td>\n",
              "      <td>0</td>\n",
              "      <td>4</td>\n",
              "      <td>0</td>\n",
              "      <td>0</td>\n",
              "      <td>0</td>\n",
              "      <td>0</td>\n",
              "      <td>0</td>\n",
              "      <td>0</td>\n",
              "      <td>0</td>\n",
              "      <td>0</td>\n",
              "      <td>0</td>\n",
              "      <td>1</td>\n",
              "    </tr>\n",
              "    <tr>\n",
              "      <th>...</th>\n",
              "      <td>...</td>\n",
              "      <td>...</td>\n",
              "      <td>...</td>\n",
              "      <td>...</td>\n",
              "      <td>...</td>\n",
              "      <td>...</td>\n",
              "      <td>...</td>\n",
              "      <td>...</td>\n",
              "      <td>...</td>\n",
              "      <td>...</td>\n",
              "      <td>...</td>\n",
              "      <td>...</td>\n",
              "      <td>...</td>\n",
              "      <td>...</td>\n",
              "      <td>...</td>\n",
              "    </tr>\n",
              "    <tr>\n",
              "      <th>1936</th>\n",
              "      <td>202211200rav</td>\n",
              "      <td>CAR</td>\n",
              "      <td>1</td>\n",
              "      <td>0</td>\n",
              "      <td>3</td>\n",
              "      <td>0</td>\n",
              "      <td>0</td>\n",
              "      <td>0</td>\n",
              "      <td>0</td>\n",
              "      <td>0</td>\n",
              "      <td>1</td>\n",
              "      <td>0</td>\n",
              "      <td>0</td>\n",
              "      <td>0</td>\n",
              "      <td>0</td>\n",
              "    </tr>\n",
              "    <tr>\n",
              "      <th>1937</th>\n",
              "      <td>202211200sdg</td>\n",
              "      <td>KAN</td>\n",
              "      <td>1</td>\n",
              "      <td>0</td>\n",
              "      <td>5</td>\n",
              "      <td>1</td>\n",
              "      <td>0</td>\n",
              "      <td>0</td>\n",
              "      <td>0</td>\n",
              "      <td>0</td>\n",
              "      <td>0</td>\n",
              "      <td>0</td>\n",
              "      <td>1</td>\n",
              "      <td>0</td>\n",
              "      <td>0</td>\n",
              "    </tr>\n",
              "    <tr>\n",
              "      <th>1938</th>\n",
              "      <td>202211200sdg</td>\n",
              "      <td>LAC</td>\n",
              "      <td>0</td>\n",
              "      <td>0</td>\n",
              "      <td>1</td>\n",
              "      <td>1</td>\n",
              "      <td>0</td>\n",
              "      <td>0</td>\n",
              "      <td>0</td>\n",
              "      <td>0</td>\n",
              "      <td>0</td>\n",
              "      <td>0</td>\n",
              "      <td>0</td>\n",
              "      <td>1</td>\n",
              "      <td>0</td>\n",
              "    </tr>\n",
              "    <tr>\n",
              "      <th>1939</th>\n",
              "      <td>202211210crd</td>\n",
              "      <td>ARI</td>\n",
              "      <td>0</td>\n",
              "      <td>0</td>\n",
              "      <td>0</td>\n",
              "      <td>0</td>\n",
              "      <td>0</td>\n",
              "      <td>0</td>\n",
              "      <td>0</td>\n",
              "      <td>0</td>\n",
              "      <td>0</td>\n",
              "      <td>0</td>\n",
              "      <td>0</td>\n",
              "      <td>0</td>\n",
              "      <td>1</td>\n",
              "    </tr>\n",
              "    <tr>\n",
              "      <th>1940</th>\n",
              "      <td>202211210crd</td>\n",
              "      <td>SFO</td>\n",
              "      <td>2</td>\n",
              "      <td>0</td>\n",
              "      <td>3</td>\n",
              "      <td>0</td>\n",
              "      <td>0</td>\n",
              "      <td>0</td>\n",
              "      <td>0</td>\n",
              "      <td>0</td>\n",
              "      <td>1</td>\n",
              "      <td>0</td>\n",
              "      <td>0</td>\n",
              "      <td>0</td>\n",
              "      <td>0</td>\n",
              "    </tr>\n",
              "  </tbody>\n",
              "</table>\n",
              "<p>1941 rows × 15 columns</p>\n",
              "</div>\n",
              "      <button class=\"colab-df-convert\" onclick=\"convertToInteractive('df-7cea2e1f-d8d0-44c4-9745-1e0c146d6940')\"\n",
              "              title=\"Convert this dataframe to an interactive table.\"\n",
              "              style=\"display:none;\">\n",
              "        \n",
              "  <svg xmlns=\"http://www.w3.org/2000/svg\" height=\"24px\"viewBox=\"0 0 24 24\"\n",
              "       width=\"24px\">\n",
              "    <path d=\"M0 0h24v24H0V0z\" fill=\"none\"/>\n",
              "    <path d=\"M18.56 5.44l.94 2.06.94-2.06 2.06-.94-2.06-.94-.94-2.06-.94 2.06-2.06.94zm-11 1L8.5 8.5l.94-2.06 2.06-.94-2.06-.94L8.5 2.5l-.94 2.06-2.06.94zm10 10l.94 2.06.94-2.06 2.06-.94-2.06-.94-.94-2.06-.94 2.06-2.06.94z\"/><path d=\"M17.41 7.96l-1.37-1.37c-.4-.4-.92-.59-1.43-.59-.52 0-1.04.2-1.43.59L10.3 9.45l-7.72 7.72c-.78.78-.78 2.05 0 2.83L4 21.41c.39.39.9.59 1.41.59.51 0 1.02-.2 1.41-.59l7.78-7.78 2.81-2.81c.8-.78.8-2.07 0-2.86zM5.41 20L4 18.59l7.72-7.72 1.47 1.35L5.41 20z\"/>\n",
              "  </svg>\n",
              "      </button>\n",
              "      \n",
              "  <style>\n",
              "    .colab-df-container {\n",
              "      display:flex;\n",
              "      flex-wrap:wrap;\n",
              "      gap: 12px;\n",
              "    }\n",
              "\n",
              "    .colab-df-convert {\n",
              "      background-color: #E8F0FE;\n",
              "      border: none;\n",
              "      border-radius: 50%;\n",
              "      cursor: pointer;\n",
              "      display: none;\n",
              "      fill: #1967D2;\n",
              "      height: 32px;\n",
              "      padding: 0 0 0 0;\n",
              "      width: 32px;\n",
              "    }\n",
              "\n",
              "    .colab-df-convert:hover {\n",
              "      background-color: #E2EBFA;\n",
              "      box-shadow: 0px 1px 2px rgba(60, 64, 67, 0.3), 0px 1px 3px 1px rgba(60, 64, 67, 0.15);\n",
              "      fill: #174EA6;\n",
              "    }\n",
              "\n",
              "    [theme=dark] .colab-df-convert {\n",
              "      background-color: #3B4455;\n",
              "      fill: #D2E3FC;\n",
              "    }\n",
              "\n",
              "    [theme=dark] .colab-df-convert:hover {\n",
              "      background-color: #434B5C;\n",
              "      box-shadow: 0px 1px 3px 1px rgba(0, 0, 0, 0.15);\n",
              "      filter: drop-shadow(0px 1px 2px rgba(0, 0, 0, 0.3));\n",
              "      fill: #FFFFFF;\n",
              "    }\n",
              "  </style>\n",
              "\n",
              "      <script>\n",
              "        const buttonEl =\n",
              "          document.querySelector('#df-7cea2e1f-d8d0-44c4-9745-1e0c146d6940 button.colab-df-convert');\n",
              "        buttonEl.style.display =\n",
              "          google.colab.kernel.accessAllowed ? 'block' : 'none';\n",
              "\n",
              "        async function convertToInteractive(key) {\n",
              "          const element = document.querySelector('#df-7cea2e1f-d8d0-44c4-9745-1e0c146d6940');\n",
              "          const dataTable =\n",
              "            await google.colab.kernel.invokeFunction('convertToInteractive',\n",
              "                                                     [key], {});\n",
              "          if (!dataTable) return;\n",
              "\n",
              "          const docLinkHtml = 'Like what you see? Visit the ' +\n",
              "            '<a target=\"_blank\" href=https://colab.research.google.com/notebooks/data_table.ipynb>data table notebook</a>'\n",
              "            + ' to learn more about interactive tables.';\n",
              "          element.innerHTML = '';\n",
              "          dataTable['output_type'] = 'display_data';\n",
              "          await google.colab.output.renderOutput(dataTable, element);\n",
              "          const docLink = document.createElement('div');\n",
              "          docLink.innerHTML = docLinkHtml;\n",
              "          element.appendChild(docLink);\n",
              "        }\n",
              "      </script>\n",
              "    </div>\n",
              "  </div>\n",
              "  "
            ]
          },
          "metadata": {},
          "execution_count": 90
        }
      ]
    },
    {
      "cell_type": "code",
      "source": [
        "# Check defense for NaNs.\n",
        "defensive_team.isna().sum().sum()"
      ],
      "metadata": {
        "colab": {
          "base_uri": "https://localhost:8080/"
        },
        "id": "ouhmQ04hPO7I",
        "outputId": "eae6ede5-ebc3-4e64-cce7-7e0bc2272fb7"
      },
      "execution_count": 91,
      "outputs": [
        {
          "output_type": "execute_result",
          "data": {
            "text/plain": [
              "0"
            ]
          },
          "metadata": {},
          "execution_count": 91
        }
      ]
    },
    {
      "cell_type": "markdown",
      "source": [
        "In our queries we'll want to see how defensive teams perform when at home. We'll drop duplicates so that the same game is not represented by the defenses of both the home and visiting teams, and so we can make the gameid the primary key in our defensive table."
      ],
      "metadata": {
        "id": "9more7zsw8Lf"
      }
    },
    {
      "cell_type": "code",
      "source": [
        "# Drop duplicates\n",
        "defensive_team = defensive_team.drop_duplicates(subset='game_id')"
      ],
      "metadata": {
        "id": "Jfq0bBrdxbTP"
      },
      "execution_count": 92,
      "outputs": []
    },
    {
      "cell_type": "code",
      "source": [
        "# Check defense table.\n",
        "defensive_team.head()"
      ],
      "metadata": {
        "colab": {
          "base_uri": "https://localhost:8080/",
          "height": 268
        },
        "id": "w07J8ZhPxvzm",
        "outputId": "c858161a-27b3-4345-a608-7c1a308c2b31"
      },
      "execution_count": 94,
      "outputs": [
        {
          "output_type": "execute_result",
          "data": {
            "text/plain": [
              "        game_id team  def_int  def_int_td  sacks  fumbles_rec  blocked_kick  \\\n",
              "0  201909050chi  CHI        0           0      5            0             0   \n",
              "2  201909080car  LAR        1           0      3            2             0   \n",
              "4  201909080cle  CLE        0           0      4            0             0   \n",
              "6  201909080crd  DET        1           0      5            0             0   \n",
              "8  201909080dal  DAL        0           0      1            2             0   \n",
              "\n",
              "   safety  points_allowed_0  points_allowed_1_6  points_allowed_7_13  \\\n",
              "0       0                 0                   0                    1   \n",
              "2       0                 0                   0                    0   \n",
              "4       0                 0                   0                    0   \n",
              "6       0                 0                   0                    0   \n",
              "8       0                 0                   0                    0   \n",
              "\n",
              "   points_allowed_14_20  points_allowed_21_27  points_allowed_28_34  \\\n",
              "0                     0                     0                     0   \n",
              "2                     0                     1                     0   \n",
              "4                     0                     0                     0   \n",
              "6                     0                     1                     0   \n",
              "8                     1                     0                     0   \n",
              "\n",
              "   points_allowed_35  \n",
              "0                  0  \n",
              "2                  0  \n",
              "4                  1  \n",
              "6                  0  \n",
              "8                  0  "
            ],
            "text/html": [
              "\n",
              "  <div id=\"df-77308fc6-2ef8-4c14-8cd9-fb4d85b06f7a\">\n",
              "    <div class=\"colab-df-container\">\n",
              "      <div>\n",
              "<style scoped>\n",
              "    .dataframe tbody tr th:only-of-type {\n",
              "        vertical-align: middle;\n",
              "    }\n",
              "\n",
              "    .dataframe tbody tr th {\n",
              "        vertical-align: top;\n",
              "    }\n",
              "\n",
              "    .dataframe thead th {\n",
              "        text-align: right;\n",
              "    }\n",
              "</style>\n",
              "<table border=\"1\" class=\"dataframe\">\n",
              "  <thead>\n",
              "    <tr style=\"text-align: right;\">\n",
              "      <th></th>\n",
              "      <th>game_id</th>\n",
              "      <th>team</th>\n",
              "      <th>def_int</th>\n",
              "      <th>def_int_td</th>\n",
              "      <th>sacks</th>\n",
              "      <th>fumbles_rec</th>\n",
              "      <th>blocked_kick</th>\n",
              "      <th>safety</th>\n",
              "      <th>points_allowed_0</th>\n",
              "      <th>points_allowed_1_6</th>\n",
              "      <th>points_allowed_7_13</th>\n",
              "      <th>points_allowed_14_20</th>\n",
              "      <th>points_allowed_21_27</th>\n",
              "      <th>points_allowed_28_34</th>\n",
              "      <th>points_allowed_35</th>\n",
              "    </tr>\n",
              "  </thead>\n",
              "  <tbody>\n",
              "    <tr>\n",
              "      <th>0</th>\n",
              "      <td>201909050chi</td>\n",
              "      <td>CHI</td>\n",
              "      <td>0</td>\n",
              "      <td>0</td>\n",
              "      <td>5</td>\n",
              "      <td>0</td>\n",
              "      <td>0</td>\n",
              "      <td>0</td>\n",
              "      <td>0</td>\n",
              "      <td>0</td>\n",
              "      <td>1</td>\n",
              "      <td>0</td>\n",
              "      <td>0</td>\n",
              "      <td>0</td>\n",
              "      <td>0</td>\n",
              "    </tr>\n",
              "    <tr>\n",
              "      <th>2</th>\n",
              "      <td>201909080car</td>\n",
              "      <td>LAR</td>\n",
              "      <td>1</td>\n",
              "      <td>0</td>\n",
              "      <td>3</td>\n",
              "      <td>2</td>\n",
              "      <td>0</td>\n",
              "      <td>0</td>\n",
              "      <td>0</td>\n",
              "      <td>0</td>\n",
              "      <td>0</td>\n",
              "      <td>0</td>\n",
              "      <td>1</td>\n",
              "      <td>0</td>\n",
              "      <td>0</td>\n",
              "    </tr>\n",
              "    <tr>\n",
              "      <th>4</th>\n",
              "      <td>201909080cle</td>\n",
              "      <td>CLE</td>\n",
              "      <td>0</td>\n",
              "      <td>0</td>\n",
              "      <td>4</td>\n",
              "      <td>0</td>\n",
              "      <td>0</td>\n",
              "      <td>0</td>\n",
              "      <td>0</td>\n",
              "      <td>0</td>\n",
              "      <td>0</td>\n",
              "      <td>0</td>\n",
              "      <td>0</td>\n",
              "      <td>0</td>\n",
              "      <td>1</td>\n",
              "    </tr>\n",
              "    <tr>\n",
              "      <th>6</th>\n",
              "      <td>201909080crd</td>\n",
              "      <td>DET</td>\n",
              "      <td>1</td>\n",
              "      <td>0</td>\n",
              "      <td>5</td>\n",
              "      <td>0</td>\n",
              "      <td>0</td>\n",
              "      <td>0</td>\n",
              "      <td>0</td>\n",
              "      <td>0</td>\n",
              "      <td>0</td>\n",
              "      <td>0</td>\n",
              "      <td>1</td>\n",
              "      <td>0</td>\n",
              "      <td>0</td>\n",
              "    </tr>\n",
              "    <tr>\n",
              "      <th>8</th>\n",
              "      <td>201909080dal</td>\n",
              "      <td>DAL</td>\n",
              "      <td>0</td>\n",
              "      <td>0</td>\n",
              "      <td>1</td>\n",
              "      <td>2</td>\n",
              "      <td>0</td>\n",
              "      <td>0</td>\n",
              "      <td>0</td>\n",
              "      <td>0</td>\n",
              "      <td>0</td>\n",
              "      <td>1</td>\n",
              "      <td>0</td>\n",
              "      <td>0</td>\n",
              "      <td>0</td>\n",
              "    </tr>\n",
              "  </tbody>\n",
              "</table>\n",
              "</div>\n",
              "      <button class=\"colab-df-convert\" onclick=\"convertToInteractive('df-77308fc6-2ef8-4c14-8cd9-fb4d85b06f7a')\"\n",
              "              title=\"Convert this dataframe to an interactive table.\"\n",
              "              style=\"display:none;\">\n",
              "        \n",
              "  <svg xmlns=\"http://www.w3.org/2000/svg\" height=\"24px\"viewBox=\"0 0 24 24\"\n",
              "       width=\"24px\">\n",
              "    <path d=\"M0 0h24v24H0V0z\" fill=\"none\"/>\n",
              "    <path d=\"M18.56 5.44l.94 2.06.94-2.06 2.06-.94-2.06-.94-.94-2.06-.94 2.06-2.06.94zm-11 1L8.5 8.5l.94-2.06 2.06-.94-2.06-.94L8.5 2.5l-.94 2.06-2.06.94zm10 10l.94 2.06.94-2.06 2.06-.94-2.06-.94-.94-2.06-.94 2.06-2.06.94z\"/><path d=\"M17.41 7.96l-1.37-1.37c-.4-.4-.92-.59-1.43-.59-.52 0-1.04.2-1.43.59L10.3 9.45l-7.72 7.72c-.78.78-.78 2.05 0 2.83L4 21.41c.39.39.9.59 1.41.59.51 0 1.02-.2 1.41-.59l7.78-7.78 2.81-2.81c.8-.78.8-2.07 0-2.86zM5.41 20L4 18.59l7.72-7.72 1.47 1.35L5.41 20z\"/>\n",
              "  </svg>\n",
              "      </button>\n",
              "      \n",
              "  <style>\n",
              "    .colab-df-container {\n",
              "      display:flex;\n",
              "      flex-wrap:wrap;\n",
              "      gap: 12px;\n",
              "    }\n",
              "\n",
              "    .colab-df-convert {\n",
              "      background-color: #E8F0FE;\n",
              "      border: none;\n",
              "      border-radius: 50%;\n",
              "      cursor: pointer;\n",
              "      display: none;\n",
              "      fill: #1967D2;\n",
              "      height: 32px;\n",
              "      padding: 0 0 0 0;\n",
              "      width: 32px;\n",
              "    }\n",
              "\n",
              "    .colab-df-convert:hover {\n",
              "      background-color: #E2EBFA;\n",
              "      box-shadow: 0px 1px 2px rgba(60, 64, 67, 0.3), 0px 1px 3px 1px rgba(60, 64, 67, 0.15);\n",
              "      fill: #174EA6;\n",
              "    }\n",
              "\n",
              "    [theme=dark] .colab-df-convert {\n",
              "      background-color: #3B4455;\n",
              "      fill: #D2E3FC;\n",
              "    }\n",
              "\n",
              "    [theme=dark] .colab-df-convert:hover {\n",
              "      background-color: #434B5C;\n",
              "      box-shadow: 0px 1px 3px 1px rgba(0, 0, 0, 0.15);\n",
              "      filter: drop-shadow(0px 1px 2px rgba(0, 0, 0, 0.3));\n",
              "      fill: #FFFFFF;\n",
              "    }\n",
              "  </style>\n",
              "\n",
              "      <script>\n",
              "        const buttonEl =\n",
              "          document.querySelector('#df-77308fc6-2ef8-4c14-8cd9-fb4d85b06f7a button.colab-df-convert');\n",
              "        buttonEl.style.display =\n",
              "          google.colab.kernel.accessAllowed ? 'block' : 'none';\n",
              "\n",
              "        async function convertToInteractive(key) {\n",
              "          const element = document.querySelector('#df-77308fc6-2ef8-4c14-8cd9-fb4d85b06f7a');\n",
              "          const dataTable =\n",
              "            await google.colab.kernel.invokeFunction('convertToInteractive',\n",
              "                                                     [key], {});\n",
              "          if (!dataTable) return;\n",
              "\n",
              "          const docLinkHtml = 'Like what you see? Visit the ' +\n",
              "            '<a target=\"_blank\" href=https://colab.research.google.com/notebooks/data_table.ipynb>data table notebook</a>'\n",
              "            + ' to learn more about interactive tables.';\n",
              "          element.innerHTML = '';\n",
              "          dataTable['output_type'] = 'display_data';\n",
              "          await google.colab.output.renderOutput(dataTable, element);\n",
              "          const docLink = document.createElement('div');\n",
              "          docLink.innerHTML = docLinkHtml;\n",
              "          element.appendChild(docLink);\n",
              "        }\n",
              "      </script>\n",
              "    </div>\n",
              "  </div>\n",
              "  "
            ]
          },
          "metadata": {},
          "execution_count": 94
        }
      ]
    },
    {
      "cell_type": "markdown",
      "source": [
        "We'll do the same transformation for the kickers, focusing our analysis on the performance of kickers at their home field."
      ],
      "metadata": {
        "id": "xcYdG5cZ0j61"
      }
    },
    {
      "cell_type": "code",
      "source": [
        "# Create the kickers dataframe and check our columns.\n",
        "kicking = df_kicking[['game_id', 'player', 'fga', 'fgm', 'xpa', 'xpm', 'fga_0_39', 'fgm_0_39', 'fga_40_49', 'fgm_40_49', 'fga_50', 'fgm_50']]\n",
        "kicking = kickers.drop_duplicates(subset='game_id')\n",
        "kicking"
      ],
      "metadata": {
        "colab": {
          "base_uri": "https://localhost:8080/",
          "height": 636
        },
        "id": "18iKjuMkPhbg",
        "outputId": "a7952230-2f7f-4e72-cfb9-8d35c916017f"
      },
      "execution_count": 110,
      "outputs": [
        {
          "output_type": "execute_result",
          "data": {
            "text/plain": [
              "           game_id           player  fga  fgm  xpa  xpm  fga_0_39  fgm_0_39  \\\n",
              "0     201909050chi     Eddy Pineiro    1    1    0    0         1         1   \n",
              "2     201909080car        Joey Slye    3    2    3    3         0         0   \n",
              "4     201909080cle     Cairo Santos    2    2    5    5         1         1   \n",
              "6     201909080crd    Zane Gonzalez    4    4    1    1         3         3   \n",
              "8     201909080dal      Brett Maher    0    0    5    5         0         0   \n",
              "...            ...              ...  ...  ...  ...  ...       ...       ...   \n",
              "1941  202211200nyg  Michael Badgley    1    1    4    4         1         1   \n",
              "1943  202211200pit   Evan McPherson    3    3    4    4         0         0   \n",
              "1945  202211200rav     Eddy Pineiro    1    1    0    0         0         0   \n",
              "1947  202211200sdg  Harrison Butker    3    3    3    3         2         2   \n",
              "1949  202211210crd     Robbie Gould    1    1    5    5         0         0   \n",
              "\n",
              "      fga_40_49  fgm_40_49  fga_50  fgm_50  \n",
              "0             0          0       0       0  \n",
              "2             1          1       2       1  \n",
              "4             0          0       1       1  \n",
              "6             1          1       0       0  \n",
              "8             0          0       0       0  \n",
              "...         ...        ...     ...     ...  \n",
              "1941          0          0       0       0  \n",
              "1943          2          2       1       1  \n",
              "1945          0          0       0       0  \n",
              "1947          0          0       1       1  \n",
              "1949          0          0       0       0  \n",
              "\n",
              "[984 rows x 12 columns]"
            ],
            "text/html": [
              "\n",
              "  <div id=\"df-eee2abfc-ff5b-4a85-bc92-3df93c2583da\">\n",
              "    <div class=\"colab-df-container\">\n",
              "      <div>\n",
              "<style scoped>\n",
              "    .dataframe tbody tr th:only-of-type {\n",
              "        vertical-align: middle;\n",
              "    }\n",
              "\n",
              "    .dataframe tbody tr th {\n",
              "        vertical-align: top;\n",
              "    }\n",
              "\n",
              "    .dataframe thead th {\n",
              "        text-align: right;\n",
              "    }\n",
              "</style>\n",
              "<table border=\"1\" class=\"dataframe\">\n",
              "  <thead>\n",
              "    <tr style=\"text-align: right;\">\n",
              "      <th></th>\n",
              "      <th>game_id</th>\n",
              "      <th>player</th>\n",
              "      <th>fga</th>\n",
              "      <th>fgm</th>\n",
              "      <th>xpa</th>\n",
              "      <th>xpm</th>\n",
              "      <th>fga_0_39</th>\n",
              "      <th>fgm_0_39</th>\n",
              "      <th>fga_40_49</th>\n",
              "      <th>fgm_40_49</th>\n",
              "      <th>fga_50</th>\n",
              "      <th>fgm_50</th>\n",
              "    </tr>\n",
              "  </thead>\n",
              "  <tbody>\n",
              "    <tr>\n",
              "      <th>0</th>\n",
              "      <td>201909050chi</td>\n",
              "      <td>Eddy Pineiro</td>\n",
              "      <td>1</td>\n",
              "      <td>1</td>\n",
              "      <td>0</td>\n",
              "      <td>0</td>\n",
              "      <td>1</td>\n",
              "      <td>1</td>\n",
              "      <td>0</td>\n",
              "      <td>0</td>\n",
              "      <td>0</td>\n",
              "      <td>0</td>\n",
              "    </tr>\n",
              "    <tr>\n",
              "      <th>2</th>\n",
              "      <td>201909080car</td>\n",
              "      <td>Joey Slye</td>\n",
              "      <td>3</td>\n",
              "      <td>2</td>\n",
              "      <td>3</td>\n",
              "      <td>3</td>\n",
              "      <td>0</td>\n",
              "      <td>0</td>\n",
              "      <td>1</td>\n",
              "      <td>1</td>\n",
              "      <td>2</td>\n",
              "      <td>1</td>\n",
              "    </tr>\n",
              "    <tr>\n",
              "      <th>4</th>\n",
              "      <td>201909080cle</td>\n",
              "      <td>Cairo Santos</td>\n",
              "      <td>2</td>\n",
              "      <td>2</td>\n",
              "      <td>5</td>\n",
              "      <td>5</td>\n",
              "      <td>1</td>\n",
              "      <td>1</td>\n",
              "      <td>0</td>\n",
              "      <td>0</td>\n",
              "      <td>1</td>\n",
              "      <td>1</td>\n",
              "    </tr>\n",
              "    <tr>\n",
              "      <th>6</th>\n",
              "      <td>201909080crd</td>\n",
              "      <td>Zane Gonzalez</td>\n",
              "      <td>4</td>\n",
              "      <td>4</td>\n",
              "      <td>1</td>\n",
              "      <td>1</td>\n",
              "      <td>3</td>\n",
              "      <td>3</td>\n",
              "      <td>1</td>\n",
              "      <td>1</td>\n",
              "      <td>0</td>\n",
              "      <td>0</td>\n",
              "    </tr>\n",
              "    <tr>\n",
              "      <th>8</th>\n",
              "      <td>201909080dal</td>\n",
              "      <td>Brett Maher</td>\n",
              "      <td>0</td>\n",
              "      <td>0</td>\n",
              "      <td>5</td>\n",
              "      <td>5</td>\n",
              "      <td>0</td>\n",
              "      <td>0</td>\n",
              "      <td>0</td>\n",
              "      <td>0</td>\n",
              "      <td>0</td>\n",
              "      <td>0</td>\n",
              "    </tr>\n",
              "    <tr>\n",
              "      <th>...</th>\n",
              "      <td>...</td>\n",
              "      <td>...</td>\n",
              "      <td>...</td>\n",
              "      <td>...</td>\n",
              "      <td>...</td>\n",
              "      <td>...</td>\n",
              "      <td>...</td>\n",
              "      <td>...</td>\n",
              "      <td>...</td>\n",
              "      <td>...</td>\n",
              "      <td>...</td>\n",
              "      <td>...</td>\n",
              "    </tr>\n",
              "    <tr>\n",
              "      <th>1941</th>\n",
              "      <td>202211200nyg</td>\n",
              "      <td>Michael Badgley</td>\n",
              "      <td>1</td>\n",
              "      <td>1</td>\n",
              "      <td>4</td>\n",
              "      <td>4</td>\n",
              "      <td>1</td>\n",
              "      <td>1</td>\n",
              "      <td>0</td>\n",
              "      <td>0</td>\n",
              "      <td>0</td>\n",
              "      <td>0</td>\n",
              "    </tr>\n",
              "    <tr>\n",
              "      <th>1943</th>\n",
              "      <td>202211200pit</td>\n",
              "      <td>Evan McPherson</td>\n",
              "      <td>3</td>\n",
              "      <td>3</td>\n",
              "      <td>4</td>\n",
              "      <td>4</td>\n",
              "      <td>0</td>\n",
              "      <td>0</td>\n",
              "      <td>2</td>\n",
              "      <td>2</td>\n",
              "      <td>1</td>\n",
              "      <td>1</td>\n",
              "    </tr>\n",
              "    <tr>\n",
              "      <th>1945</th>\n",
              "      <td>202211200rav</td>\n",
              "      <td>Eddy Pineiro</td>\n",
              "      <td>1</td>\n",
              "      <td>1</td>\n",
              "      <td>0</td>\n",
              "      <td>0</td>\n",
              "      <td>0</td>\n",
              "      <td>0</td>\n",
              "      <td>0</td>\n",
              "      <td>0</td>\n",
              "      <td>0</td>\n",
              "      <td>0</td>\n",
              "    </tr>\n",
              "    <tr>\n",
              "      <th>1947</th>\n",
              "      <td>202211200sdg</td>\n",
              "      <td>Harrison Butker</td>\n",
              "      <td>3</td>\n",
              "      <td>3</td>\n",
              "      <td>3</td>\n",
              "      <td>3</td>\n",
              "      <td>2</td>\n",
              "      <td>2</td>\n",
              "      <td>0</td>\n",
              "      <td>0</td>\n",
              "      <td>1</td>\n",
              "      <td>1</td>\n",
              "    </tr>\n",
              "    <tr>\n",
              "      <th>1949</th>\n",
              "      <td>202211210crd</td>\n",
              "      <td>Robbie Gould</td>\n",
              "      <td>1</td>\n",
              "      <td>1</td>\n",
              "      <td>5</td>\n",
              "      <td>5</td>\n",
              "      <td>0</td>\n",
              "      <td>0</td>\n",
              "      <td>0</td>\n",
              "      <td>0</td>\n",
              "      <td>0</td>\n",
              "      <td>0</td>\n",
              "    </tr>\n",
              "  </tbody>\n",
              "</table>\n",
              "<p>984 rows × 12 columns</p>\n",
              "</div>\n",
              "      <button class=\"colab-df-convert\" onclick=\"convertToInteractive('df-eee2abfc-ff5b-4a85-bc92-3df93c2583da')\"\n",
              "              title=\"Convert this dataframe to an interactive table.\"\n",
              "              style=\"display:none;\">\n",
              "        \n",
              "  <svg xmlns=\"http://www.w3.org/2000/svg\" height=\"24px\"viewBox=\"0 0 24 24\"\n",
              "       width=\"24px\">\n",
              "    <path d=\"M0 0h24v24H0V0z\" fill=\"none\"/>\n",
              "    <path d=\"M18.56 5.44l.94 2.06.94-2.06 2.06-.94-2.06-.94-.94-2.06-.94 2.06-2.06.94zm-11 1L8.5 8.5l.94-2.06 2.06-.94-2.06-.94L8.5 2.5l-.94 2.06-2.06.94zm10 10l.94 2.06.94-2.06 2.06-.94-2.06-.94-.94-2.06-.94 2.06-2.06.94z\"/><path d=\"M17.41 7.96l-1.37-1.37c-.4-.4-.92-.59-1.43-.59-.52 0-1.04.2-1.43.59L10.3 9.45l-7.72 7.72c-.78.78-.78 2.05 0 2.83L4 21.41c.39.39.9.59 1.41.59.51 0 1.02-.2 1.41-.59l7.78-7.78 2.81-2.81c.8-.78.8-2.07 0-2.86zM5.41 20L4 18.59l7.72-7.72 1.47 1.35L5.41 20z\"/>\n",
              "  </svg>\n",
              "      </button>\n",
              "      \n",
              "  <style>\n",
              "    .colab-df-container {\n",
              "      display:flex;\n",
              "      flex-wrap:wrap;\n",
              "      gap: 12px;\n",
              "    }\n",
              "\n",
              "    .colab-df-convert {\n",
              "      background-color: #E8F0FE;\n",
              "      border: none;\n",
              "      border-radius: 50%;\n",
              "      cursor: pointer;\n",
              "      display: none;\n",
              "      fill: #1967D2;\n",
              "      height: 32px;\n",
              "      padding: 0 0 0 0;\n",
              "      width: 32px;\n",
              "    }\n",
              "\n",
              "    .colab-df-convert:hover {\n",
              "      background-color: #E2EBFA;\n",
              "      box-shadow: 0px 1px 2px rgba(60, 64, 67, 0.3), 0px 1px 3px 1px rgba(60, 64, 67, 0.15);\n",
              "      fill: #174EA6;\n",
              "    }\n",
              "\n",
              "    [theme=dark] .colab-df-convert {\n",
              "      background-color: #3B4455;\n",
              "      fill: #D2E3FC;\n",
              "    }\n",
              "\n",
              "    [theme=dark] .colab-df-convert:hover {\n",
              "      background-color: #434B5C;\n",
              "      box-shadow: 0px 1px 3px 1px rgba(0, 0, 0, 0.15);\n",
              "      filter: drop-shadow(0px 1px 2px rgba(0, 0, 0, 0.3));\n",
              "      fill: #FFFFFF;\n",
              "    }\n",
              "  </style>\n",
              "\n",
              "      <script>\n",
              "        const buttonEl =\n",
              "          document.querySelector('#df-eee2abfc-ff5b-4a85-bc92-3df93c2583da button.colab-df-convert');\n",
              "        buttonEl.style.display =\n",
              "          google.colab.kernel.accessAllowed ? 'block' : 'none';\n",
              "\n",
              "        async function convertToInteractive(key) {\n",
              "          const element = document.querySelector('#df-eee2abfc-ff5b-4a85-bc92-3df93c2583da');\n",
              "          const dataTable =\n",
              "            await google.colab.kernel.invokeFunction('convertToInteractive',\n",
              "                                                     [key], {});\n",
              "          if (!dataTable) return;\n",
              "\n",
              "          const docLinkHtml = 'Like what you see? Visit the ' +\n",
              "            '<a target=\"_blank\" href=https://colab.research.google.com/notebooks/data_table.ipynb>data table notebook</a>'\n",
              "            + ' to learn more about interactive tables.';\n",
              "          element.innerHTML = '';\n",
              "          dataTable['output_type'] = 'display_data';\n",
              "          await google.colab.output.renderOutput(dataTable, element);\n",
              "          const docLink = document.createElement('div');\n",
              "          docLink.innerHTML = docLinkHtml;\n",
              "          element.appendChild(docLink);\n",
              "        }\n",
              "      </script>\n",
              "    </div>\n",
              "  </div>\n",
              "  "
            ]
          },
          "metadata": {},
          "execution_count": 110
        }
      ]
    },
    {
      "cell_type": "code",
      "source": [
        "# Check kicking for NaNs.\n",
        "kicking.isna().sum().sum()"
      ],
      "metadata": {
        "colab": {
          "base_uri": "https://localhost:8080/"
        },
        "id": "ThaWIwKub8R8",
        "outputId": "9a0aa50d-478a-453f-993e-c428847fd31e"
      },
      "execution_count": 111,
      "outputs": [
        {
          "output_type": "execute_result",
          "data": {
            "text/plain": [
              "0"
            ]
          },
          "metadata": {},
          "execution_count": 111
        }
      ]
    },
    {
      "cell_type": "markdown",
      "source": [
        "Since the data for one game is recorded twice, once for the home team and once for the visitor team, we'll again drop the duplicates of this table."
      ],
      "metadata": {
        "id": "KZWf8twk01m2"
      }
    },
    {
      "cell_type": "code",
      "source": [
        "# Create the weather/conditions dataframe and check our columns.\n",
        "weather = df_kicking[['game_id', 'Roof', 'Surface', 'Temperature', 'Humidity', 'Wind_Speed']]\n",
        "weather = weather.drop_duplicates(subset='game_id')"
      ],
      "metadata": {
        "id": "IQ0MowZGQpSf"
      },
      "execution_count": 116,
      "outputs": []
    },
    {
      "cell_type": "code",
      "source": [
        "# Check weather for NaNs.\n",
        "weather.isna().sum().sum()"
      ],
      "metadata": {
        "colab": {
          "base_uri": "https://localhost:8080/"
        },
        "id": "q-VMHAJacF72",
        "outputId": "4cc682b6-09ff-488e-e594-d150fb2bd617"
      },
      "execution_count": 117,
      "outputs": [
        {
          "output_type": "execute_result",
          "data": {
            "text/plain": [
              "0"
            ]
          },
          "metadata": {},
          "execution_count": 117
        }
      ]
    },
    {
      "cell_type": "markdown",
      "source": [
        "# Creating the tables in our database\n",
        "\n",
        "We must import our SQL functions and define a function to connect to our database. We also need to define functions to run queries and check information in our tables like the column names. Then we can run our queries to create the tables."
      ],
      "metadata": {
        "id": "obRfpKI43-WE"
      }
    },
    {
      "cell_type": "code",
      "source": [
        "# import SQL functions\n",
        "import psycopg2"
      ],
      "metadata": {
        "id": "q47Aqh5nBXMH"
      },
      "execution_count": 28,
      "outputs": []
    },
    {
      "cell_type": "code",
      "source": [
        "# Define get_conn_curr to connect to our database\n",
        "def get_conn_cur():\n",
        " \n",
        " conn = psycopg2.connect(\n",
        "    host=\"dbwk7.cdmcrhr1hses.us-west-2.rds.amazonaws.com\",\n",
        "    database=\"dbwk7\",\n",
        "    user=\"postgres\",\n",
        "    password=\"onthedownload\",\n",
        "    port='5432'\n",
        "    )\n",
        " \n",
        " cur = conn.cursor()\n",
        " return(conn, cur)"
      ],
      "metadata": {
        "id": "QYEFPUG5CkQ9"
      },
      "execution_count": 29,
      "outputs": []
    },
    {
      "cell_type": "code",
      "source": [
        "# Run or old functions in case we want to check our data!\n",
        "\n",
        "# run_query function\n",
        "def run_query(query_string):\n",
        "\n",
        " conn, cur = get_conn_cur() # get connection and cursor\n",
        "\n",
        " cur.execute(query_string) # executing string as before\n",
        "\n",
        " my_data = cur.fetchall() # fetch query data as before\n",
        "\n",
        " # here we're extracting the 0th element for each item in cur.description\n",
        " colnames = [desc[0] for desc in cur.description]\n",
        "\n",
        " cur.close() # close\n",
        " conn.close() # close\n",
        "\n",
        " return(colnames, my_data) # return column names AND data\n",
        "\n",
        "# Column name function for checking out what's in a table\n",
        "def get_column_names(table_name): # arguement of table_name\n",
        " conn, cur = get_conn_cur() # get connection and cursor\n",
        "\n",
        " # Now select column names while inserting the table name into the WERE\n",
        " column_name_query = \"\"\"SELECT column_name FROM information_schema.columns\n",
        "    WHERE table_name = '%s' \"\"\" %table_name\n",
        "\n",
        " cur.execute(column_name_query) # exectue\n",
        " my_data = cur.fetchall() # store\n",
        "\n",
        " cur.close() # close\n",
        " conn.close() # close\n",
        "\n",
        " return(my_data) # return\n",
        "\n",
        "# Check table_names\n",
        "def get_table_names():\n",
        " conn, cur = get_conn_cur() # get connection and cursor\n",
        "\n",
        " # query to get table names\n",
        " table_name_query = \"\"\"SELECT table_name FROM information_schema.tables\n",
        "    WHERE table_schema = 'public' \"\"\"\n",
        "\n",
        " cur.execute(table_name_query) # execute\n",
        " my_data = cur.fetchall() # fetch results\n",
        "\n",
        " cur.close() #close cursor\n",
        " conn.close() # close connection\n",
        "\n",
        " return(my_data) # return your fetched results\n",
        " \n",
        "# make sql_head function\n",
        "def sql_head(table_name):\n",
        " conn, cur = get_conn_cur() # get connection and cursor\n",
        "\n",
        " # Now select column names while inserting the table name into the WERE\n",
        " head_query = \"\"\"SELECT * FROM %s LIMIT 5; \"\"\" %table_name\n",
        "\n",
        " cur.execute(head_query) # exectue\n",
        " colnames = [desc[0] for desc in cur.description] # get column names\n",
        " my_data = cur.fetchall() # store first five rows\n",
        "\n",
        " cur.close() # close\n",
        " conn.close() # close\n",
        "\n",
        " df = pd.DataFrame(data = my_data, columns = colnames) # make into df\n",
        "\n",
        " return(df) # return"
      ],
      "metadata": {
        "id": "cMLRlDl-DGe3"
      },
      "execution_count": 30,
      "outputs": []
    },
    {
      "cell_type": "code",
      "source": [
        "# query creating game_info table with game_id as primary key\n",
        "tq = \"\"\"CREATE TABLE game_info (\n",
        "     game_id VARCHAR(255) PRIMARY KEY,\n",
        "     home_team VARCHAR(255),\n",
        "     vis_team VARCHAR(255),\n",
        "     home_score INTEGER,\n",
        "     vis_score INTEGER,\n",
        "     OT BOOLEAN,\n",
        "     Vegas_Favorite VARCHAR(255),\n",
        "     game_date timestamp NOT NULL\n",
        "     );\"\"\""
      ],
      "metadata": {
        "id": "t81k1V5GuBBl"
      },
      "execution_count": 62,
      "outputs": []
    },
    {
      "cell_type": "code",
      "source": [
        "# Get our connection and cursor and assign to conn and cur\n",
        "conn, cur = get_conn_cur()"
      ],
      "metadata": {
        "id": "xhrVHlV31pZR"
      },
      "execution_count": 63,
      "outputs": []
    },
    {
      "cell_type": "code",
      "source": [
        "# execute our query we wrote above\n",
        "cur.execute(tq)"
      ],
      "metadata": {
        "id": "PXB9Q3RW1sFZ"
      },
      "execution_count": 64,
      "outputs": []
    },
    {
      "cell_type": "code",
      "source": [
        "# Commit the table.\n",
        "conn.commit()"
      ],
      "metadata": {
        "id": "Z19aPbLKBEkK"
      },
      "execution_count": 65,
      "outputs": []
    },
    {
      "cell_type": "code",
      "source": [
        "# Check that table is there\n",
        "get_table_names()"
      ],
      "metadata": {
        "colab": {
          "base_uri": "https://localhost:8080/"
        },
        "id": "YuMUySu_BKTR",
        "outputId": "c56e96fa-5131-462c-a48d-b09444444541"
      },
      "execution_count": 31,
      "outputs": [
        {
          "output_type": "execute_result",
          "data": {
            "text/plain": [
              "[('states',),\n",
              " ('qb',),\n",
              " ('quarterbacks',),\n",
              " ('profs',),\n",
              " ('cases_df',),\n",
              " ('defense',),\n",
              " ('judges',),\n",
              " ('kickers',),\n",
              " ('casetype',),\n",
              " ('weather',),\n",
              " ('rollup',),\n",
              " ('kicking',),\n",
              " ('weekly_stats',),\n",
              " ('game_info',)]"
            ]
          },
          "metadata": {},
          "execution_count": 31
        }
      ]
    },
    {
      "cell_type": "code",
      "source": [
        "# Run query to check our column names and corresponding data types.\n",
        "conn, cur = get_conn_cur()\n",
        "cur = conn.cursor()\n",
        "uq = \"\"\"SELECT column_name, data_type\n",
        "     FROM information_schema.columns\n",
        "     WHERE table_name = 'game_info';\"\"\"\n",
        "cur.execute(uq)\n",
        "print(cur.fetchall())\n",
        "conn.close()"
      ],
      "metadata": {
        "colab": {
          "base_uri": "https://localhost:8080/"
        },
        "id": "h-kU6vQ2BPOZ",
        "outputId": "f8ed31f4-59cb-4dc6-9596-8b27ea1d2a88"
      },
      "execution_count": 32,
      "outputs": [
        {
          "output_type": "stream",
          "name": "stdout",
          "text": [
            "[('game_id', 'character varying'), ('home_team', 'character varying'), ('vis_team', 'character varying'), ('home_score', 'integer'), ('vis_score', 'integer'), ('ot', 'boolean'), ('vegas_favorite', 'character varying'), ('game_date', 'timestamp without time zone')]\n"
          ]
        }
      ]
    },
    {
      "cell_type": "code",
      "source": [
        "# Make quarterbacks table\n",
        "tq = \"\"\"CREATE TABLE quarterbacks (\n",
        "     game_id VARCHAR(255),\n",
        "     player VARCHAR(255),\n",
        "     team VARCHAR(255),\n",
        "     pass_att INTEGER,\n",
        "     pass_cmp INTEGER,\n",
        "     pass_yds INTEGER,\n",
        "     pass_td INTEGER,\n",
        "     pass_int INTEGER,\n",
        "     pass_sacked INTEGER,\n",
        "     rush_yds INTEGER,\n",
        "     rush_td INTEGER\n",
        "     );\"\"\""
      ],
      "metadata": {
        "id": "DuyajL1tBnfy"
      },
      "execution_count": 103,
      "outputs": []
    },
    {
      "cell_type": "code",
      "source": [
        "# Execute our query, commit the table, and check that it is in our database.\n",
        "conn, cur = get_conn_cur()\n",
        "cur.execute(tq)\n",
        "conn.commit()\n",
        "get_table_names()"
      ],
      "metadata": {
        "colab": {
          "base_uri": "https://localhost:8080/"
        },
        "id": "d95asuEJC5jA",
        "outputId": "f6d40da6-319c-4699-b317-c8dbfc6b6d55"
      },
      "execution_count": 104,
      "outputs": [
        {
          "output_type": "execute_result",
          "data": {
            "text/plain": [
              "[('states',),\n",
              " ('qb',),\n",
              " ('quarterbacks',),\n",
              " ('profs',),\n",
              " ('cases_df',),\n",
              " ('defense',),\n",
              " ('judges',),\n",
              " ('kickers',),\n",
              " ('casetype',),\n",
              " ('weather',),\n",
              " ('rollup',),\n",
              " ('kicking',),\n",
              " ('weekly_stats',),\n",
              " ('game_info',)]"
            ]
          },
          "metadata": {},
          "execution_count": 104
        }
      ]
    },
    {
      "cell_type": "code",
      "source": [
        "# Create defensive table\n",
        "tq = \"\"\"CREATE TABLE defensive_team (\n",
        "     game_id VARCHAR(255) PRIMARY KEY,\n",
        "     team VARCHAR(255),\n",
        "     def_int INTEGER,\n",
        "     def_int_td INTEGER,\n",
        "     sacks INTEGER,\n",
        "     fumbles_rec INTEGER,\n",
        "     blocked_kick INTEGER,\n",
        "     safety INTEGER,\n",
        "     points_allowed_0 INTEGER,\n",
        "     points_allowed_1_6 INTEGER,\n",
        "     points_allowed_7_13 INTEGER,\n",
        "     points_allowed_14_20 INTEGER,\n",
        "     points_allowed_21_27 INTEGER,\n",
        "     points_allowed_28_34 INTEGER,\n",
        "     points_allowed_35 INTEGER\n",
        "     );\"\"\""
      ],
      "metadata": {
        "id": "tSDWHHjADVhX"
      },
      "execution_count": 81,
      "outputs": []
    },
    {
      "cell_type": "code",
      "source": [
        "# Execute our query, commit the table, and check that it is in our database.\n",
        "conn, cur = get_conn_cur()\n",
        "cur.execute(tq)\n",
        "conn.commit()\n",
        "get_table_names()"
      ],
      "metadata": {
        "colab": {
          "base_uri": "https://localhost:8080/"
        },
        "id": "0KzsrF1UExCc",
        "outputId": "a49ebc97-57be-40a3-886c-0ab56897a7d2"
      },
      "execution_count": 82,
      "outputs": [
        {
          "output_type": "execute_result",
          "data": {
            "text/plain": [
              "[('states',),\n",
              " ('qb',),\n",
              " ('quarterbacks',),\n",
              " ('profs',),\n",
              " ('cases_df',),\n",
              " ('defense',),\n",
              " ('defensive',),\n",
              " ('judges',),\n",
              " ('kickers',),\n",
              " ('defensive_team',),\n",
              " ('casetype',),\n",
              " ('weather',),\n",
              " ('rollup',),\n",
              " ('kicking',),\n",
              " ('weekly_stats',),\n",
              " ('game_info',)]"
            ]
          },
          "metadata": {},
          "execution_count": 82
        }
      ]
    },
    {
      "cell_type": "code",
      "source": [
        "# Create kicking table\n",
        "tq = \"\"\"CREATE TABLE kicking (\n",
        "     game_id VARCHAR(255) PRIMARY KEY,\n",
        "     player VARCHAR(255),\n",
        "     fga INTEGER,\n",
        "     fgm INTEGER,\n",
        "     xpa INTEGER,\n",
        "     xpm INTEGER,\n",
        "     fga_0_39 INTEGER,\n",
        "     fgm_0_39 INTEGER,\n",
        "     fga_40_49 INTEGER,\n",
        "     fgm_40_49 INTEGER,\n",
        "     fga_50 INTEGER,\n",
        "     fgm_50 INTEGER\n",
        "     );\"\"\""
      ],
      "metadata": {
        "id": "WQoKaAbOEyro"
      },
      "execution_count": 90,
      "outputs": []
    },
    {
      "cell_type": "code",
      "source": [
        "# Execute our query, commit the table, and check that it is in our database.\n",
        "conn, cur = get_conn_cur()\n",
        "cur.execute(tq)\n",
        "conn.commit()\n",
        "get_table_names()"
      ],
      "metadata": {
        "colab": {
          "base_uri": "https://localhost:8080/"
        },
        "id": "TZOwKsKPFe5l",
        "outputId": "6a26d616-48eb-4f2b-bbe9-4708232e6e31"
      },
      "execution_count": 91,
      "outputs": [
        {
          "output_type": "execute_result",
          "data": {
            "text/plain": [
              "[('states',),\n",
              " ('qb',),\n",
              " ('profs',),\n",
              " ('cases_df',),\n",
              " ('defense',),\n",
              " ('judges',),\n",
              " ('kickers',),\n",
              " ('casetype',),\n",
              " ('weather',),\n",
              " ('rollup',),\n",
              " ('kicking',),\n",
              " ('weekly_stats',),\n",
              " ('game_info',)]"
            ]
          },
          "metadata": {},
          "execution_count": 91
        }
      ]
    },
    {
      "cell_type": "code",
      "source": [
        "# Create weather/conditions table\n",
        "tq = \"\"\"CREATE TABLE weather (\n",
        "     game_id VARCHAR(255) PRIMARY KEY,\n",
        "     Roof VARCHAR(255),\n",
        "     Surface VARCHAR(255),\n",
        "     Temperature INTEGER,\n",
        "     Humidity INTEGER,\n",
        "     Wind_Speed INTEGER\n",
        "     );\"\"\""
      ],
      "metadata": {
        "id": "KJKO2dGkFmc6"
      },
      "execution_count": 107,
      "outputs": []
    },
    {
      "cell_type": "code",
      "source": [
        "# Execute our query, commit the table, and check that it is in our database.\n",
        "conn, cur = get_conn_cur()\n",
        "cur.execute(tq)\n",
        "conn.commit()\n",
        "get_table_names()"
      ],
      "metadata": {
        "colab": {
          "base_uri": "https://localhost:8080/"
        },
        "id": "qYhlu-2_GAtJ",
        "outputId": "9e273291-4767-4d74-cb5c-b1f7095d04a4"
      },
      "execution_count": 85,
      "outputs": [
        {
          "output_type": "execute_result",
          "data": {
            "text/plain": [
              "[('states',),\n",
              " ('qb',),\n",
              " ('profs',),\n",
              " ('cases_df',),\n",
              " ('defense',),\n",
              " ('judges',),\n",
              " ('kickers',),\n",
              " ('casetype',),\n",
              " ('weather',),\n",
              " ('rollup',),\n",
              " ('weekly_stats',),\n",
              " ('game_info',)]"
            ]
          },
          "metadata": {},
          "execution_count": 85
        }
      ]
    },
    {
      "cell_type": "markdown",
      "source": [
        "# Loading information into our database\n",
        "\n",
        "Now that our empty tables are in our database, we must write queries to insert out data. First let's make sure the columns in our database have the same order as the columns in the tables we have made."
      ],
      "metadata": {
        "id": "jOI6scThGsIL"
      }
    },
    {
      "cell_type": "code",
      "source": [
        "# Check column order of game_info.\n",
        "get_column_names(table_name='game_info')"
      ],
      "metadata": {
        "colab": {
          "base_uri": "https://localhost:8080/"
        },
        "id": "ZloVykGYHGNJ",
        "outputId": "f86feaa4-a2df-43c3-fb21-5e9c321ef46e"
      },
      "execution_count": 33,
      "outputs": [
        {
          "output_type": "execute_result",
          "data": {
            "text/plain": [
              "[('game_id',),\n",
              " ('home_team',),\n",
              " ('vis_team',),\n",
              " ('home_score',),\n",
              " ('vis_score',),\n",
              " ('ot',),\n",
              " ('vegas_favorite',),\n",
              " ('game_date',)]"
            ]
          },
          "metadata": {},
          "execution_count": 33
        }
      ]
    },
    {
      "cell_type": "code",
      "source": [
        "# Check column order of quarterbacks.\n",
        "get_column_names(table_name='quarterbacks')"
      ],
      "metadata": {
        "colab": {
          "base_uri": "https://localhost:8080/"
        },
        "id": "cHwwCgaQHKOs",
        "outputId": "8c95bab8-6d4d-4c50-ca92-532da507e68b"
      },
      "execution_count": 34,
      "outputs": [
        {
          "output_type": "execute_result",
          "data": {
            "text/plain": [
              "[('game_id',),\n",
              " ('player',),\n",
              " ('team',),\n",
              " ('pass_att',),\n",
              " ('pass_cmp',),\n",
              " ('pass_yds',),\n",
              " ('pass_td',),\n",
              " ('pass_int',),\n",
              " ('pass_sacked',),\n",
              " ('rush_yds',),\n",
              " ('rush_td',)]"
            ]
          },
          "metadata": {},
          "execution_count": 34
        }
      ]
    },
    {
      "cell_type": "code",
      "source": [
        "# Check column order of defense team table.\n",
        "get_column_names(table_name='defensive_team')"
      ],
      "metadata": {
        "colab": {
          "base_uri": "https://localhost:8080/"
        },
        "id": "_0gbsnDYHZQt",
        "outputId": "0e376f53-1789-480a-c096-824c7a281d4e"
      },
      "execution_count": 97,
      "outputs": [
        {
          "output_type": "execute_result",
          "data": {
            "text/plain": [
              "[('game_id',),\n",
              " ('team',),\n",
              " ('def_int',),\n",
              " ('def_int_td',),\n",
              " ('sacks',),\n",
              " ('fumbles_rec',),\n",
              " ('blocked_kick',),\n",
              " ('safety',),\n",
              " ('points_allowed_0',),\n",
              " ('points_allowed_1_6',),\n",
              " ('points_allowed_7_13',),\n",
              " ('points_allowed_14_20',),\n",
              " ('points_allowed_21_27',),\n",
              " ('points_allowed_28_34',),\n",
              " ('points_allowed_35',)]"
            ]
          },
          "metadata": {},
          "execution_count": 97
        }
      ]
    },
    {
      "cell_type": "code",
      "source": [
        "# Check column order of kickers.\n",
        "get_column_names(table_name='kickers')"
      ],
      "metadata": {
        "colab": {
          "base_uri": "https://localhost:8080/"
        },
        "id": "1_diDnfLHebd",
        "outputId": "c17cecd7-fca7-4f5a-d3ee-b871407b362e"
      },
      "execution_count": 93,
      "outputs": [
        {
          "output_type": "execute_result",
          "data": {
            "text/plain": [
              "[('game_id',),\n",
              " ('fga',),\n",
              " ('fgm',),\n",
              " ('xpa',),\n",
              " ('xpm',),\n",
              " ('fga_0_39',),\n",
              " ('fgm_0_39',),\n",
              " ('fga_40_49',),\n",
              " ('fgm_40_49',),\n",
              " ('fga_50',),\n",
              " ('fgm_50',)]"
            ]
          },
          "metadata": {},
          "execution_count": 93
        }
      ]
    },
    {
      "cell_type": "markdown",
      "source": [
        "It seems we have forgetten a column identifying the kicker by name. We will fix this by changing our table name to 'kicking' in the query we created, and adding in kickers as a varied character data type."
      ],
      "metadata": {
        "id": "89LDQzTJINaV"
      }
    },
    {
      "cell_type": "code",
      "source": [
        "# Check column order of kicking.\n",
        "get_column_names(table_name='kicking')"
      ],
      "metadata": {
        "colab": {
          "base_uri": "https://localhost:8080/"
        },
        "id": "3k0ujEerIHrt",
        "outputId": "9bba8fad-e886-42f0-d8bb-62e399e9ef0e"
      },
      "execution_count": 94,
      "outputs": [
        {
          "output_type": "execute_result",
          "data": {
            "text/plain": [
              "[('game_id',),\n",
              " ('player',),\n",
              " ('fga',),\n",
              " ('fgm',),\n",
              " ('xpa',),\n",
              " ('xpm',),\n",
              " ('fga_0_39',),\n",
              " ('fgm_0_39',),\n",
              " ('fga_40_49',),\n",
              " ('fgm_40_49',),\n",
              " ('fga_50',),\n",
              " ('fgm_50',)]"
            ]
          },
          "metadata": {},
          "execution_count": 94
        }
      ]
    },
    {
      "cell_type": "markdown",
      "source": [
        "This seems to have fixed the problem."
      ],
      "metadata": {
        "id": "LM7uY0wmId5B"
      }
    },
    {
      "cell_type": "code",
      "source": [
        "# Check column order of weather.\n",
        "get_column_names(table_name='weather')"
      ],
      "metadata": {
        "colab": {
          "base_uri": "https://localhost:8080/"
        },
        "id": "EpAfieQQIf5a",
        "outputId": "0caf609f-c34a-4497-b455-38e62b429881"
      },
      "execution_count": 108,
      "outputs": [
        {
          "output_type": "execute_result",
          "data": {
            "text/plain": [
              "[('game_id',),\n",
              " ('roof',),\n",
              " ('surface',),\n",
              " ('temperature',),\n",
              " ('humidity',),\n",
              " ('wind_speed',)]"
            ]
          },
          "metadata": {},
          "execution_count": 108
        }
      ]
    },
    {
      "cell_type": "markdown",
      "source": [
        "# Inserting our data to our data base\n",
        "\n",
        "We must create tuples from the rows of our tables so SQL can receive our data.\n",
        "\n",
        "We'll start with our game_info table."
      ],
      "metadata": {
        "id": "mk36T4A7Nfss"
      }
    },
    {
      "cell_type": "code",
      "source": [
        "# Use numpy to convert each row to a tuple so that SQL can receive the data.\n",
        "import numpy as np\n",
        "game_info_data_tups = [tuple(x) for x in game_info.to_numpy()]"
      ],
      "metadata": {
        "id": "YjEOuSOAI_qm"
      },
      "execution_count": 86,
      "outputs": []
    },
    {
      "cell_type": "code",
      "source": [
        "# Write our insert string.\n",
        "# We have eight values in each tuple, so we need to write '%s inside the string eight times.\n",
        "iq = \"\"\"INSERT INTO game_info(game_id,home_team,vis_team,home_score,vis_score,ot,vegas_favorite,game_date) VALUES(%s, %s, %s, %s, %s, %s, %s, %s);\"\"\"\n",
        "iq"
      ],
      "metadata": {
        "colab": {
          "base_uri": "https://localhost:8080/",
          "height": 54
        },
        "id": "wcOMDdAtJn9E",
        "outputId": "814d62f3-0329-4170-e992-a7135d46738d"
      },
      "execution_count": 87,
      "outputs": [
        {
          "output_type": "execute_result",
          "data": {
            "text/plain": [
              "'INSERT INTO game_info(game_id,home_team,vis_team,home_score,vis_score,ot,vegas_favorite,game_date) VALUES(%s, %s, %s, %s, %s, %s, %s, %s);'"
            ],
            "application/vnd.google.colaboratory.intrinsic+json": {
              "type": "string"
            }
          },
          "metadata": {},
          "execution_count": 87
        }
      ]
    },
    {
      "cell_type": "code",
      "source": [
        "# Check if query works.\n",
        "iq % game_info_data_tups[4]"
      ],
      "metadata": {
        "colab": {
          "base_uri": "https://localhost:8080/",
          "height": 54
        },
        "id": "V1pKrzL2mu-M",
        "outputId": "74a46f25-f948-4e8e-e40b-8dd8faa16f16"
      },
      "execution_count": 88,
      "outputs": [
        {
          "output_type": "execute_result",
          "data": {
            "text/plain": [
              "'INSERT INTO game_info(game_id,home_team,vis_team,home_score,vis_score,ot,vegas_favorite,game_date) VALUES(201909080dal, DAL, NYG, 35, 17, False, DAL, 2019-09-08 00:00:00);'"
            ],
            "application/vnd.google.colaboratory.intrinsic+json": {
              "type": "string"
            }
          },
          "metadata": {},
          "execution_count": 88
        }
      ]
    },
    {
      "cell_type": "code",
      "source": [
        "# Upload our data.\n",
        "conn, cur = get_conn_cur()\n",
        "cur.executemany(iq, game_info_data_tups)\n",
        "conn.commit()\n",
        "conn.close()"
      ],
      "metadata": {
        "id": "P4Ftt-SRKfm5"
      },
      "execution_count": 38,
      "outputs": []
    },
    {
      "cell_type": "markdown",
      "source": [
        "Time to upload data to the quarterbacks table."
      ],
      "metadata": {
        "id": "G5vMqRiAnupb"
      }
    },
    {
      "cell_type": "code",
      "source": [
        "# Use numpy to convert each row to a tuple so that SQL can receive the data.\n",
        "quarterbacks_data_tups = [tuple(x) for x in quarterbacks.to_numpy()]"
      ],
      "metadata": {
        "id": "OtIG1RF9NtOm"
      },
      "execution_count": 39,
      "outputs": []
    },
    {
      "cell_type": "code",
      "source": [
        "# Write our insert string.\n",
        "# We have eleven values in each tuple, so we need to write '%s inside the string eleven times.\n",
        "iq = \"\"\"INSERT INTO quarterbacks(game_id,player,team,pass_att,pass_cmp,pass_yds,pass_td,pass_int,pass_sacked,rush_yds,rush_td) VALUES(%s, %s, %s, %s, %s, %s, %s, %s, %s, %s, %s);\"\"\"\n",
        "iq"
      ],
      "metadata": {
        "colab": {
          "base_uri": "https://localhost:8080/",
          "height": 54
        },
        "id": "NdTH6L5GPMtT",
        "outputId": "d72c9f2e-0c03-4363-f61d-c7337c5fc12a"
      },
      "execution_count": 41,
      "outputs": [
        {
          "output_type": "execute_result",
          "data": {
            "text/plain": [
              "'INSERT INTO quarterbacks(game_id,player,team,pass_att,pass_cmp,pass_yds,pass_td,pass_int,pass_sacked,rush_yds,rush_td) VALUES(%s, %s, %s, %s, %s, %s, %s, %s, %s, %s, %s);'"
            ],
            "application/vnd.google.colaboratory.intrinsic+json": {
              "type": "string"
            }
          },
          "metadata": {},
          "execution_count": 41
        }
      ]
    },
    {
      "cell_type": "code",
      "source": [
        "# Check if query works\n",
        "iq % quarterbacks_data_tups[4]"
      ],
      "metadata": {
        "colab": {
          "base_uri": "https://localhost:8080/",
          "height": 54
        },
        "id": "-4zNpi29mF8f",
        "outputId": "0d678e45-1c8a-4731-f586-855efd1f19d2"
      },
      "execution_count": 42,
      "outputs": [
        {
          "output_type": "execute_result",
          "data": {
            "text/plain": [
              "'INSERT INTO quarterbacks(game_id,player,team,pass_att,pass_cmp,pass_yds,pass_td,pass_int,pass_sacked,rush_yds,rush_td) VALUES(201909080cle, Marcus Mariota, TEN, 24, 14, 248, 3, 0, 4, 24, 0);'"
            ],
            "application/vnd.google.colaboratory.intrinsic+json": {
              "type": "string"
            }
          },
          "metadata": {},
          "execution_count": 42
        }
      ]
    },
    {
      "cell_type": "code",
      "source": [
        "# Upload data\n",
        "conn, cur = get_conn_cur()\n",
        "cur.executemany(iq, quarterbacks_data_tups)\n",
        "conn.commit()\n",
        "conn.close()"
      ],
      "metadata": {
        "id": "st-V84wCn3Ke"
      },
      "execution_count": 45,
      "outputs": []
    },
    {
      "cell_type": "markdown",
      "source": [
        "Now the defense table."
      ],
      "metadata": {
        "id": "jO60B5VSuNT_"
      }
    },
    {
      "cell_type": "code",
      "source": [
        "# Use numpy to convert each row to a tuple so that SQL can receive the data.\n",
        "defensive_team_data_tups = [tuple(x) for x in defensive_team.to_numpy()]"
      ],
      "metadata": {
        "id": "ABGIipSHuOyx"
      },
      "execution_count": 98,
      "outputs": []
    },
    {
      "cell_type": "code",
      "source": [
        "# Write our insert string.\n",
        "# We have fifteen values in each tuple, so we need to write '%s inside the string fifteen times.\n",
        "iq = \"\"\"INSERT INTO defensive_team(game_id,team,def_int,def_int_td,sacks,fumbles_rec,blocked_kick,safety,points_allowed_0,points_allowed_1_6,points_allowed_7_13,points_allowed_14_20,points_allowed_21_27,points_allowed_28_34,points_allowed_35) VALUES(%s, %s, %s, %s, %s, %s, %s, %s, %s, %s, %s, %s, %s, %s, %s);\"\"\"\n",
        "iq"
      ],
      "metadata": {
        "colab": {
          "base_uri": "https://localhost:8080/",
          "height": 88
        },
        "id": "XXUFEQJ4ulgQ",
        "outputId": "5b3b5bd6-3ed0-4cd3-fcef-d8ab964169bb"
      },
      "execution_count": 99,
      "outputs": [
        {
          "output_type": "execute_result",
          "data": {
            "text/plain": [
              "'INSERT INTO defensive_team(game_id,team,def_int,def_int_td,sacks,fumbles_rec,blocked_kick,safety,points_allowed_0,points_allowed_1_6,points_allowed_7_13,points_allowed_14_20,points_allowed_21_27,points_allowed_28_34,points_allowed_35) VALUES(%s, %s, %s, %s, %s, %s, %s, %s, %s, %s, %s, %s, %s, %s, %s);'"
            ],
            "application/vnd.google.colaboratory.intrinsic+json": {
              "type": "string"
            }
          },
          "metadata": {},
          "execution_count": 99
        }
      ]
    },
    {
      "cell_type": "code",
      "source": [
        "# Check if query works\n",
        "iq % defensive_team_data_tups[4]"
      ],
      "metadata": {
        "colab": {
          "base_uri": "https://localhost:8080/",
          "height": 88
        },
        "id": "EkBASgzWv2k0",
        "outputId": "b6445d9b-3aae-4b3f-9c4d-f5f5570d8b22"
      },
      "execution_count": 100,
      "outputs": [
        {
          "output_type": "execute_result",
          "data": {
            "text/plain": [
              "'INSERT INTO defensive_team(game_id,team,def_int,def_int_td,sacks,fumbles_rec,blocked_kick,safety,points_allowed_0,points_allowed_1_6,points_allowed_7_13,points_allowed_14_20,points_allowed_21_27,points_allowed_28_34,points_allowed_35) VALUES(201909080dal, DAL, 0, 0, 1, 2, 0, 0, 0, 0, 0, 1, 0, 0, 0);'"
            ],
            "application/vnd.google.colaboratory.intrinsic+json": {
              "type": "string"
            }
          },
          "metadata": {},
          "execution_count": 100
        }
      ]
    },
    {
      "cell_type": "code",
      "source": [
        "# Upload data\n",
        "conn, cur = get_conn_cur()\n",
        "cur.executemany(iq, defensive_team_data_tups)\n",
        "conn.commit()\n",
        "conn.close()"
      ],
      "metadata": {
        "id": "vjCzFxUQv95R"
      },
      "execution_count": 101,
      "outputs": []
    },
    {
      "cell_type": "markdown",
      "source": [
        "Now to upload the kicking data to the table in our database."
      ],
      "metadata": {
        "id": "opeJlYzW1OL8"
      }
    },
    {
      "cell_type": "code",
      "source": [
        "# Use numpy to convert each row to a tuple so that SQL can receive the data.\n",
        "kicking_data_tups = [tuple(x) for x in kicking.to_numpy()]"
      ],
      "metadata": {
        "id": "jI6sYEuv0aTb"
      },
      "execution_count": 112,
      "outputs": []
    },
    {
      "cell_type": "code",
      "source": [
        "# Write our insert string.\n",
        "# We have twelve values in each tuple, so we need to write '%s inside the string twelve times.\n",
        "iq = \"\"\"INSERT INTO kicking(game_id,player,fga,fgm,xpa,xpm,fga_0_39,fgm_0_39,fga_40_49,fgm_40_49,fga_50,fgm_50) VALUES(%s, %s, %s, %s, %s, %s, %s, %s, %s, %s, %s, %s);\"\"\"\n",
        "iq"
      ],
      "metadata": {
        "colab": {
          "base_uri": "https://localhost:8080/",
          "height": 54
        },
        "id": "17ldizCM1tKz",
        "outputId": "91be6cee-2315-46e0-bab8-3e8643895335"
      },
      "execution_count": 113,
      "outputs": [
        {
          "output_type": "execute_result",
          "data": {
            "text/plain": [
              "'INSERT INTO kicking(game_id,player,fga,fgm,xpa,xpm,fga_0_39,fgm_0_39,fga_40_49,fgm_40_49,fga_50,fgm_50) VALUES(%s, %s, %s, %s, %s, %s, %s, %s, %s, %s, %s, %s);'"
            ],
            "application/vnd.google.colaboratory.intrinsic+json": {
              "type": "string"
            }
          },
          "metadata": {},
          "execution_count": 113
        }
      ]
    },
    {
      "cell_type": "code",
      "source": [
        "# Check if query works\n",
        "iq % kicking_data_tups[4]"
      ],
      "metadata": {
        "colab": {
          "base_uri": "https://localhost:8080/",
          "height": 54
        },
        "id": "Kp4TA1bS2fnq",
        "outputId": "700ebf6a-b5b7-40e3-f632-0a35aa785dc2"
      },
      "execution_count": 114,
      "outputs": [
        {
          "output_type": "execute_result",
          "data": {
            "text/plain": [
              "'INSERT INTO kicking(game_id,player,fga,fgm,xpa,xpm,fga_0_39,fgm_0_39,fga_40_49,fgm_40_49,fga_50,fgm_50) VALUES(201909080dal, Brett Maher, 0, 0, 5, 5, 0, 0, 0, 0, 0, 0);'"
            ],
            "application/vnd.google.colaboratory.intrinsic+json": {
              "type": "string"
            }
          },
          "metadata": {},
          "execution_count": 114
        }
      ]
    },
    {
      "cell_type": "code",
      "source": [
        "# Upload data\n",
        "conn, cur = get_conn_cur()\n",
        "cur.executemany(iq, kicking_data_tups)\n",
        "conn.commit()\n",
        "conn.close()"
      ],
      "metadata": {
        "id": "cDVrLPgY2hxI"
      },
      "execution_count": 115,
      "outputs": []
    },
    {
      "cell_type": "markdown",
      "source": [
        "Now to upload our weather data to the table in our database."
      ],
      "metadata": {
        "id": "pKhNUaZQ3HrG"
      }
    },
    {
      "cell_type": "code",
      "source": [
        "# Use numpy to convert each row to a tuple so that SQL can receive the data.\n",
        "weather_data_tups = [tuple(x) for x in weather.to_numpy()]"
      ],
      "metadata": {
        "id": "W5EOaTY_3Pr4"
      },
      "execution_count": 118,
      "outputs": []
    },
    {
      "cell_type": "code",
      "source": [
        "# Write our insert string.\n",
        "# We have six values in each tuple, so we need to write '%s inside the string six times.\n",
        "iq = \"\"\"INSERT INTO weather(game_id,roof,surface,temperature,humidity,wind_speed) VALUES(%s, %s, %s, %s, %s, %s);\"\"\"\n",
        "iq"
      ],
      "metadata": {
        "colab": {
          "base_uri": "https://localhost:8080/",
          "height": 54
        },
        "id": "XBAzhpgc3b_a",
        "outputId": "9142a6b7-1ca8-4fd7-bcdc-37386318975e"
      },
      "execution_count": 119,
      "outputs": [
        {
          "output_type": "execute_result",
          "data": {
            "text/plain": [
              "'INSERT INTO weather(game_id,roof,surface,temperature,humidity,wind_speed) VALUES(%s, %s, %s, %s, %s, %s);'"
            ],
            "application/vnd.google.colaboratory.intrinsic+json": {
              "type": "string"
            }
          },
          "metadata": {},
          "execution_count": 119
        }
      ]
    },
    {
      "cell_type": "code",
      "source": [
        "# Check if query works\n",
        "iq % weather_data_tups[4]"
      ],
      "metadata": {
        "colab": {
          "base_uri": "https://localhost:8080/",
          "height": 54
        },
        "id": "wQZPCsxL3uRo",
        "outputId": "92bd4e6e-57ec-40b3-aeba-b80fabfd4d9e"
      },
      "execution_count": 120,
      "outputs": [
        {
          "output_type": "execute_result",
          "data": {
            "text/plain": [
              "'INSERT INTO weather(game_id,roof,surface,temperature,humidity,wind_speed) VALUES(201909080dal, retractable roof (closed), fieldturf, 72, 45, 0);'"
            ],
            "application/vnd.google.colaboratory.intrinsic+json": {
              "type": "string"
            }
          },
          "metadata": {},
          "execution_count": 120
        }
      ]
    },
    {
      "cell_type": "code",
      "source": [
        "# Upload data\n",
        "conn, cur = get_conn_cur()\n",
        "cur.executemany(iq, weather_data_tups)\n",
        "conn.commit()\n",
        "conn.close()"
      ],
      "metadata": {
        "id": "uB_uz6P03xZy"
      },
      "execution_count": 121,
      "outputs": []
    },
    {
      "cell_type": "markdown",
      "source": [
        "# Running Queries\n",
        "\n",
        "We can use our data to answer questions and analyze teams in the league. Being from Kansas City, my favorite team is the Chiefs, so I will be analyzing Patrick Mahomes' effectiveness as a quarterback since he started with the team, along with our kicker's accuracy across varied distances and our defense's ability to prevent scoring. In addition, I will be comparing Mahomes' performance to the other quarterbacks in the league, and determining what type of weather leads to the least scoring."
      ],
      "metadata": {
        "id": "GmKQaSEQ31sU"
      }
    },
    {
      "cell_type": "markdown",
      "source": [
        "First let's get Patrick Mahomes' average passing yards from games he's played."
      ],
      "metadata": {
        "id": "TL6ihxBM5CZD"
      }
    },
    {
      "cell_type": "code",
      "source": [
        "# Do a subquery getting just Patrick Mahomes average passing yards in an individual game.\n",
        "sq = \"\"\"SELECT AVG(pass_yds) FROM quarterbacks\n",
        "          WHERE player = 'Patrick Mahomes'\n",
        "          \"\"\"\n",
        "run_query(sq)"
      ],
      "metadata": {
        "colab": {
          "base_uri": "https://localhost:8080/"
        },
        "id": "a-JxKpOo45Jy",
        "outputId": "3e631fef-28b5-456a-8a41-0a883de30f31"
      },
      "execution_count": 126,
      "outputs": [
        {
          "output_type": "execute_result",
          "data": {
            "text/plain": [
              "(['avg'], [(Decimal('303.0781250000000000'),)])"
            ]
          },
          "metadata": {},
          "execution_count": 126
        }
      ]
    },
    {
      "cell_type": "markdown",
      "source": [
        "An average of over 300 yards!"
      ],
      "metadata": {
        "id": "8Rdb5tiq6eLa"
      }
    }
  ]
}